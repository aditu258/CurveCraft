{
 "cells": [
  {
   "cell_type": "code",
   "execution_count": 1,
   "metadata": {
    "_cell_guid": "b1076dfc-b9ad-4769-8c92-a6c4dae69d19",
    "_uuid": "8f2839f25d086af736a60e9eeb907d3b93b6e0e5",
    "execution": {
     "iopub.execute_input": "2025-06-30T10:28:03.829701Z",
     "iopub.status.busy": "2025-06-30T10:28:03.829141Z",
     "iopub.status.idle": "2025-06-30T10:28:05.999160Z",
     "shell.execute_reply": "2025-06-30T10:28:05.998175Z",
     "shell.execute_reply.started": "2025-06-30T10:28:03.829676Z"
    },
    "trusted": true
   },
   "outputs": [],
   "source": [
    "# This Python 3 environment comes with many helpful analytics libraries installed\n",
    "# It is defined by the kaggle/python Docker image: https://github.com/kaggle/docker-python\n",
    "# For example, here's several helpful packages to load\n",
    "\n",
    "import numpy as np # linear algebra\n",
    "import pandas as pd # data processing, CSV file I/O (e.g. pd.read_csv)\n",
    "\n",
    "# Input data files are available in the read-only \"../input/\" directory\n",
    "# For example, running this (by clicking run or pressing Shift+Enter) will list all files under the input directory\n",
    "\n",
    "import os\n",
    "for dirname, _, filenames in os.walk('/kaggle/input'):\n",
    "    for filename in filenames:\n",
    "        print(os.path.join(dirname, filename))\n",
    "\n",
    "# You can write up to 20GB to the current directory (/kaggle/working/) that gets preserved as output when you create a version using \"Save & Run All\" \n",
    "# You can also write temporary files to /kaggle/temp/, but they won't be saved outside of the current session"
   ]
  },
  {
   "cell_type": "code",
   "execution_count": 1,
   "metadata": {
    "execution": {
     "iopub.execute_input": "2025-06-30T13:21:05.980531Z",
     "iopub.status.busy": "2025-06-30T13:21:05.980155Z",
     "iopub.status.idle": "2025-06-30T13:21:06.896132Z",
     "shell.execute_reply": "2025-06-30T13:21:06.895204Z",
     "shell.execute_reply.started": "2025-06-30T13:21:05.980500Z"
    },
    "trusted": true
   },
   "outputs": [],
   "source": [
    "import numpy as np\n",
    "import matplotlib.pyplot as plt\n",
    "from sklearn.model_selection import train_test_split\n",
    "from sklearn.linear_model import LinearRegression,SGDRegressor\n",
    "from sklearn.preprocessing import PolynomialFeatures,StandardScaler\n",
    "from sklearn.metrics import r2_score\n",
    "from sklearn.pipeline import Pipeline"
   ]
  },
  {
   "cell_type": "code",
   "execution_count": 2,
   "metadata": {
    "execution": {
     "iopub.execute_input": "2025-06-30T13:21:09.040062Z",
     "iopub.status.busy": "2025-06-30T13:21:09.039645Z",
     "iopub.status.idle": "2025-06-30T13:21:09.044815Z",
     "shell.execute_reply": "2025-06-30T13:21:09.043813Z",
     "shell.execute_reply.started": "2025-06-30T13:21:09.040038Z"
    },
    "trusted": true
   },
   "outputs": [],
   "source": [
    "X=6*np.random.rand(200,1)-3\n",
    "y=0.8*X**2+0.9*X+2+np.random.randn(200,1)\n",
    "#y = 0.8x^2 + 0.9x + 2"
   ]
  },
  {
   "cell_type": "code",
   "execution_count": 3,
   "metadata": {
    "execution": {
     "iopub.execute_input": "2025-06-30T13:21:11.470394Z",
     "iopub.status.busy": "2025-06-30T13:21:11.469992Z",
     "iopub.status.idle": "2025-06-30T13:21:11.478671Z",
     "shell.execute_reply": "2025-06-30T13:21:11.477779Z",
     "shell.execute_reply.started": "2025-06-30T13:21:11.470364Z"
    },
    "trusted": true
   },
   "outputs": [
    {
     "data": {
      "text/plain": [
       "array([[ 2.65524579],\n",
       "       [ 2.67324933],\n",
       "       [ 1.10435151],\n",
       "       [-1.0649709 ],\n",
       "       [ 2.96696079],\n",
       "       [-2.72158844],\n",
       "       [ 1.31781922],\n",
       "       [ 1.1461072 ],\n",
       "       [ 2.67812179],\n",
       "       [ 2.12729683],\n",
       "       [ 0.54348744],\n",
       "       [ 0.31455888],\n",
       "       [-1.44001028],\n",
       "       [ 0.90417472],\n",
       "       [-1.43678767],\n",
       "       [ 0.70621377],\n",
       "       [ 1.38631187],\n",
       "       [-1.25892209],\n",
       "       [ 2.36002031],\n",
       "       [-1.41102753],\n",
       "       [-1.64175125],\n",
       "       [-0.92982461],\n",
       "       [ 0.57479564],\n",
       "       [-0.96185686],\n",
       "       [-0.87706708],\n",
       "       [-0.79378686],\n",
       "       [-2.06825014],\n",
       "       [-2.86152482],\n",
       "       [-2.58493828],\n",
       "       [ 0.19598004],\n",
       "       [ 1.61758693],\n",
       "       [-0.25919589],\n",
       "       [ 1.15972418],\n",
       "       [ 0.1838252 ],\n",
       "       [-2.0626546 ],\n",
       "       [-2.67226859],\n",
       "       [-0.65059339],\n",
       "       [-0.51308642],\n",
       "       [ 2.41484972],\n",
       "       [ 1.71453528],\n",
       "       [-2.92521452],\n",
       "       [-0.10640938],\n",
       "       [-2.80137646],\n",
       "       [-0.54385652],\n",
       "       [-1.08629312],\n",
       "       [-2.10958196],\n",
       "       [ 2.67446618],\n",
       "       [ 2.94826989],\n",
       "       [ 0.28772841],\n",
       "       [ 1.22882827],\n",
       "       [-0.26350597],\n",
       "       [ 0.72267144],\n",
       "       [-2.74801475],\n",
       "       [-1.75942522],\n",
       "       [-1.94304339],\n",
       "       [-2.79643862],\n",
       "       [ 1.65275433],\n",
       "       [-1.47566678],\n",
       "       [ 0.1912162 ],\n",
       "       [-2.70468109],\n",
       "       [-1.84921708],\n",
       "       [-2.81983846],\n",
       "       [-1.46043392],\n",
       "       [-1.14670544],\n",
       "       [-2.18968948],\n",
       "       [-0.06263367],\n",
       "       [ 2.08378192],\n",
       "       [-2.42363196],\n",
       "       [ 2.05071593],\n",
       "       [ 0.19362364],\n",
       "       [-2.15857674],\n",
       "       [ 1.78883567],\n",
       "       [-1.46680983],\n",
       "       [ 0.48688545],\n",
       "       [ 0.74896112],\n",
       "       [-2.89304561],\n",
       "       [ 2.22015804],\n",
       "       [-0.09940752],\n",
       "       [-0.63839201],\n",
       "       [-0.36176943],\n",
       "       [-1.90800219],\n",
       "       [ 1.73995354],\n",
       "       [ 0.94022977],\n",
       "       [ 2.41636352],\n",
       "       [-2.18050014],\n",
       "       [-1.6028238 ],\n",
       "       [-0.33020181],\n",
       "       [ 1.094077  ],\n",
       "       [ 1.68400139],\n",
       "       [-1.86840599],\n",
       "       [ 2.15880154],\n",
       "       [ 0.34442651],\n",
       "       [-1.78694942],\n",
       "       [-1.1863056 ],\n",
       "       [-2.56906682],\n",
       "       [ 1.29905714],\n",
       "       [ 1.89577812],\n",
       "       [-2.72618117],\n",
       "       [ 2.27773844],\n",
       "       [-2.84808618],\n",
       "       [ 1.19192361],\n",
       "       [-2.12495251],\n",
       "       [ 2.06866434],\n",
       "       [-2.19316957],\n",
       "       [-2.86099834],\n",
       "       [-0.95107669],\n",
       "       [-2.95340196],\n",
       "       [ 0.86115092],\n",
       "       [-1.05814004],\n",
       "       [-2.42484621],\n",
       "       [-0.35200567],\n",
       "       [ 0.56992015],\n",
       "       [-0.05315479],\n",
       "       [-2.56270145],\n",
       "       [-2.10097623],\n",
       "       [ 0.17531149],\n",
       "       [ 2.37954337],\n",
       "       [ 2.51384593],\n",
       "       [-1.79416124],\n",
       "       [-2.13620552],\n",
       "       [-0.90449226],\n",
       "       [-2.95183438],\n",
       "       [-1.66834141],\n",
       "       [ 0.88026712],\n",
       "       [-1.24809313],\n",
       "       [-0.24270512],\n",
       "       [ 2.90300922],\n",
       "       [-1.47131952],\n",
       "       [-0.32151089],\n",
       "       [-1.40227374],\n",
       "       [-2.78179994],\n",
       "       [-0.54751422],\n",
       "       [-2.17933896],\n",
       "       [-0.8500797 ],\n",
       "       [ 2.56020859],\n",
       "       [-0.49720225],\n",
       "       [-1.39542638],\n",
       "       [-0.44705873],\n",
       "       [ 0.84597879],\n",
       "       [ 2.1705042 ],\n",
       "       [-1.20825976],\n",
       "       [ 1.97788358],\n",
       "       [ 0.63579147],\n",
       "       [ 0.25569535],\n",
       "       [ 2.80000224],\n",
       "       [ 0.0497456 ],\n",
       "       [ 0.40148655],\n",
       "       [ 1.07058838],\n",
       "       [-1.00320722],\n",
       "       [ 2.30171809],\n",
       "       [-2.18034219],\n",
       "       [-1.59502335],\n",
       "       [-1.94700138],\n",
       "       [-0.45925857],\n",
       "       [ 0.95907429],\n",
       "       [ 2.14488895],\n",
       "       [-2.21417478],\n",
       "       [-1.66088932],\n",
       "       [ 2.68643827],\n",
       "       [-0.98124197],\n",
       "       [-0.37543277],\n",
       "       [ 2.06885613],\n",
       "       [-0.53830821],\n",
       "       [ 1.31904811],\n",
       "       [-0.78217815],\n",
       "       [-2.8170636 ],\n",
       "       [ 0.19142408],\n",
       "       [ 0.64695106],\n",
       "       [ 2.3190469 ],\n",
       "       [-1.08374848],\n",
       "       [ 1.07734901],\n",
       "       [ 1.6806422 ],\n",
       "       [-0.12101795],\n",
       "       [ 1.74075031],\n",
       "       [ 2.65854382],\n",
       "       [ 1.18084532],\n",
       "       [ 1.37684314],\n",
       "       [-2.22315213],\n",
       "       [-2.95772541],\n",
       "       [ 1.6127999 ],\n",
       "       [-2.39181347],\n",
       "       [ 2.87901703],\n",
       "       [-2.32355229],\n",
       "       [-1.66023092],\n",
       "       [ 2.15948857],\n",
       "       [ 1.72105038],\n",
       "       [-1.88541913],\n",
       "       [-0.41582025],\n",
       "       [-2.07909512],\n",
       "       [-2.459771  ],\n",
       "       [-1.95996847],\n",
       "       [ 2.07672342],\n",
       "       [-0.54618496],\n",
       "       [-1.98942613],\n",
       "       [-0.0857985 ],\n",
       "       [-1.07810165],\n",
       "       [ 1.23399847],\n",
       "       [ 2.18606393],\n",
       "       [-0.62174745],\n",
       "       [ 0.59763658]])"
      ]
     },
     "execution_count": 3,
     "metadata": {},
     "output_type": "execute_result"
    }
   ],
   "source": [
    "X"
   ]
  },
  {
   "cell_type": "code",
   "execution_count": 5,
   "metadata": {
    "execution": {
     "iopub.execute_input": "2025-06-30T10:33:44.809869Z",
     "iopub.status.busy": "2025-06-30T10:33:44.809209Z",
     "iopub.status.idle": "2025-06-30T10:33:44.818149Z",
     "shell.execute_reply": "2025-06-30T10:33:44.817092Z",
     "shell.execute_reply.started": "2025-06-30T10:33:44.809840Z"
    },
    "trusted": true
   },
   "outputs": [
    {
     "data": {
      "text/plain": [
       "array([[ 9.07682276],\n",
       "       [ 1.99820991],\n",
       "       [ 2.02010518],\n",
       "       [ 6.50349471],\n",
       "       [ 4.80973769],\n",
       "       [ 6.12156006],\n",
       "       [ 2.27227811],\n",
       "       [ 3.13012893],\n",
       "       [ 1.70358489],\n",
       "       [ 3.91308312],\n",
       "       [ 3.83752655],\n",
       "       [ 2.22121937],\n",
       "       [ 1.64474632],\n",
       "       [ 0.17648432],\n",
       "       [ 2.9794901 ],\n",
       "       [ 1.71080874],\n",
       "       [11.45423206],\n",
       "       [ 0.41317135],\n",
       "       [ 7.04988384],\n",
       "       [ 0.76197203],\n",
       "       [ 6.93559093],\n",
       "       [ 4.05162668],\n",
       "       [ 6.10221027],\n",
       "       [ 3.32258727],\n",
       "       [ 7.11820913],\n",
       "       [ 1.31850585],\n",
       "       [ 2.64103584],\n",
       "       [ 1.79791543],\n",
       "       [ 5.83852885],\n",
       "       [ 8.65778537],\n",
       "       [ 0.71753585],\n",
       "       [ 8.11123226],\n",
       "       [ 2.25098068],\n",
       "       [ 8.84651503],\n",
       "       [ 3.14669626],\n",
       "       [ 8.69909267],\n",
       "       [ 2.61599154],\n",
       "       [ 1.1545401 ],\n",
       "       [ 3.65796678],\n",
       "       [ 0.44194199],\n",
       "       [ 5.50806927],\n",
       "       [ 1.94169003],\n",
       "       [ 9.22177603],\n",
       "       [ 1.90837561],\n",
       "       [ 8.12202778],\n",
       "       [ 2.69589015],\n",
       "       [10.52083837],\n",
       "       [ 2.48769433],\n",
       "       [ 1.16398591],\n",
       "       [ 3.33815412],\n",
       "       [ 1.83284122],\n",
       "       [ 3.84910291],\n",
       "       [ 5.54061456],\n",
       "       [ 7.44547285],\n",
       "       [ 3.90699403],\n",
       "       [ 5.59446877],\n",
       "       [ 3.06879524],\n",
       "       [ 0.29185009],\n",
       "       [ 2.24527626],\n",
       "       [ 0.84319104],\n",
       "       [ 4.68688232],\n",
       "       [ 2.82277494],\n",
       "       [ 4.31298127],\n",
       "       [ 9.09658729],\n",
       "       [ 4.13675817],\n",
       "       [ 2.56419932],\n",
       "       [ 4.94942751],\n",
       "       [ 0.50026158],\n",
       "       [ 2.80819692],\n",
       "       [ 6.31296928],\n",
       "       [ 9.60819263],\n",
       "       [ 3.20920583],\n",
       "       [ 2.07290145],\n",
       "       [ 2.96753142],\n",
       "       [ 4.48397772],\n",
       "       [ 4.84890438],\n",
       "       [ 3.08543175],\n",
       "       [ 0.95012798],\n",
       "       [ 0.16683474],\n",
       "       [ 2.60817561],\n",
       "       [ 8.67933133],\n",
       "       [ 6.93771201],\n",
       "       [ 4.57795753],\n",
       "       [ 7.14598384],\n",
       "       [ 2.60180115],\n",
       "       [ 3.17326957],\n",
       "       [ 0.49034566],\n",
       "       [ 8.732978  ],\n",
       "       [ 8.90863841],\n",
       "       [ 1.1942862 ],\n",
       "       [ 7.40341475],\n",
       "       [ 2.32802177],\n",
       "       [ 5.70341384],\n",
       "       [ 4.24300273],\n",
       "       [ 7.416029  ],\n",
       "       [ 2.27063223],\n",
       "       [ 2.5677522 ],\n",
       "       [ 7.60945915],\n",
       "       [ 2.64452948],\n",
       "       [ 2.75581741],\n",
       "       [ 2.61799736],\n",
       "       [ 3.06945885],\n",
       "       [ 1.94290459],\n",
       "       [ 6.7048282 ],\n",
       "       [ 5.11894826],\n",
       "       [ 2.87709767],\n",
       "       [ 8.4704522 ],\n",
       "       [ 7.59759303],\n",
       "       [ 6.40177936],\n",
       "       [ 6.95105007],\n",
       "       [ 6.37770461],\n",
       "       [ 3.90531543],\n",
       "       [ 9.83012494],\n",
       "       [ 3.14497457],\n",
       "       [ 2.29324233],\n",
       "       [ 3.11070568],\n",
       "       [ 3.74889753],\n",
       "       [ 1.00083663],\n",
       "       [ 0.82032797],\n",
       "       [ 8.9662494 ],\n",
       "       [ 5.2205513 ],\n",
       "       [ 2.51872708],\n",
       "       [ 4.00181127],\n",
       "       [ 2.92786974],\n",
       "       [ 3.79135041],\n",
       "       [11.70142435],\n",
       "       [ 4.28071433],\n",
       "       [ 7.1556173 ],\n",
       "       [ 1.8575213 ],\n",
       "       [ 5.5877441 ],\n",
       "       [ 2.28762677],\n",
       "       [ 6.94823137],\n",
       "       [ 2.64836634],\n",
       "       [10.01995208],\n",
       "       [ 4.83957812],\n",
       "       [ 3.15846421],\n",
       "       [ 2.49844488],\n",
       "       [ 1.29529086],\n",
       "       [ 9.7509139 ],\n",
       "       [ 6.5655445 ],\n",
       "       [ 8.98051905],\n",
       "       [ 0.59410305],\n",
       "       [ 7.19660113],\n",
       "       [ 2.75012503],\n",
       "       [ 2.47580251],\n",
       "       [ 0.78156315],\n",
       "       [ 3.48917659],\n",
       "       [ 4.80782439],\n",
       "       [ 9.6021614 ],\n",
       "       [ 3.27339475],\n",
       "       [ 1.98346024],\n",
       "       [ 1.30279455],\n",
       "       [ 3.45500199],\n",
       "       [11.94705202],\n",
       "       [ 2.10690392],\n",
       "       [ 0.73007976],\n",
       "       [ 5.20581049],\n",
       "       [ 3.4204263 ],\n",
       "       [ 6.03926872],\n",
       "       [ 1.35313263],\n",
       "       [ 7.37534665],\n",
       "       [ 3.33436629],\n",
       "       [ 2.40077793],\n",
       "       [ 5.56001686],\n",
       "       [ 3.57954304],\n",
       "       [ 4.58431479],\n",
       "       [ 6.80094387],\n",
       "       [ 6.98680017],\n",
       "       [ 6.08114506],\n",
       "       [ 2.18877185],\n",
       "       [ 9.30398438],\n",
       "       [ 8.92326327],\n",
       "       [ 1.73257611],\n",
       "       [ 6.39606289],\n",
       "       [ 1.28740024],\n",
       "       [ 3.04238959],\n",
       "       [ 2.85106404],\n",
       "       [ 6.50032495],\n",
       "       [ 4.10677187],\n",
       "       [ 7.94416271],\n",
       "       [ 2.48229884],\n",
       "       [14.02369765],\n",
       "       [ 9.43721666],\n",
       "       [ 1.6692675 ],\n",
       "       [ 6.07077701],\n",
       "       [ 2.81742889],\n",
       "       [ 4.32461628],\n",
       "       [10.87015963],\n",
       "       [ 3.7643273 ],\n",
       "       [ 4.1188998 ],\n",
       "       [ 2.17025015],\n",
       "       [ 9.70518508],\n",
       "       [ 2.77886271],\n",
       "       [ 9.9212994 ],\n",
       "       [ 2.16837751],\n",
       "       [ 8.50071579],\n",
       "       [ 5.28229113],\n",
       "       [ 5.08394553],\n",
       "       [ 7.11673627],\n",
       "       [ 8.75923753]])"
      ]
     },
     "execution_count": 5,
     "metadata": {},
     "output_type": "execute_result"
    }
   ],
   "source": [
    "y"
   ]
  },
  {
   "cell_type": "code",
   "execution_count": 5,
   "metadata": {
    "execution": {
     "iopub.execute_input": "2025-06-30T13:21:27.605394Z",
     "iopub.status.busy": "2025-06-30T13:21:27.604662Z",
     "iopub.status.idle": "2025-06-30T13:21:27.905116Z",
     "shell.execute_reply": "2025-06-30T13:21:27.904279Z",
     "shell.execute_reply.started": "2025-06-30T13:21:27.605362Z"
    },
    "trusted": true
   },
   "outputs": [
    {
     "data": {
      "image/png": "[encoded data removed]",
      "text/plain": [
       "<Figure size 640x480 with 1 Axes>"
      ]
     },
     "metadata": {},
     "output_type": "display_data"
    }
   ],
   "source": [
    "plt.plot(X,y,'m.')\n",
    "plt.xlabel(\"X\")\n",
    "plt.ylabel(\"y\")\n",
    "plt.show()"
   ]
  },
  {
   "cell_type": "code",
   "execution_count": 7,
   "metadata": {
    "execution": {
     "iopub.execute_input": "2025-06-30T13:21:58.311255Z",
     "iopub.status.busy": "2025-06-30T13:21:58.310629Z",
     "iopub.status.idle": "2025-06-30T13:21:58.316982Z",
     "shell.execute_reply": "2025-06-30T13:21:58.315863Z",
     "shell.execute_reply.started": "2025-06-30T13:21:58.311227Z"
    },
    "trusted": true
   },
   "outputs": [],
   "source": [
    "X_train,X_test,y_train,y_test=train_test_split(X,y,test_size=0.2,random_state=2)"
   ]
  },
  {
   "cell_type": "code",
   "execution_count": 12,
   "metadata": {
    "execution": {
     "iopub.execute_input": "2025-06-30T13:22:38.405851Z",
     "iopub.status.busy": "2025-06-30T13:22:38.405081Z",
     "iopub.status.idle": "2025-06-30T13:22:38.409248Z",
     "shell.execute_reply": "2025-06-30T13:22:38.408440Z",
     "shell.execute_reply.started": "2025-06-30T13:22:38.405823Z"
    },
    "trusted": true
   },
   "outputs": [],
   "source": [
    "lr=LinearRegression()"
   ]
  },
  {
   "cell_type": "code",
   "execution_count": 13,
   "metadata": {
    "execution": {
     "iopub.execute_input": "2025-06-30T13:22:40.030236Z",
     "iopub.status.busy": "2025-06-30T13:22:40.029954Z",
     "iopub.status.idle": "2025-06-30T13:22:40.055494Z",
     "shell.execute_reply": "2025-06-30T13:22:40.054559Z",
     "shell.execute_reply.started": "2025-06-30T13:22:40.030218Z"
    },
    "trusted": true
   },
   "outputs": [
    {
     "data": {
      "text/html": [
       "<style>#sk-container-id-1 {color: black;background-color: white;}#sk-container-id-1 pre{padding: 0;}#sk-container-id-1 div.sk-toggleable {background-color: white;}#sk-container-id-1 label.sk-toggleable__label {cursor: pointer;display: block;width: 100%;margin-bottom: 0;padding: 0.3em;box-sizing: border-box;text-align: center;}#sk-container-id-1 label.sk-toggleable__label-arrow:before {content: \"▸\";float: left;margin-right: 0.25em;color: #696969;}#sk-container-id-1 label.sk-toggleable__label-arrow:hover:before {color: black;}#sk-container-id-1 div.sk-estimator:hover label.sk-toggleable__label-arrow:before {color: black;}#sk-container-id-1 div.sk-toggleable__content {max-height: 0;max-width: 0;overflow: hidden;text-align: left;background-color: #f0f8ff;}#sk-container-id-1 div.sk-toggleable__content pre {margin: 0.2em;color: black;border-radius: 0.25em;background-color: #f0f8ff;}#sk-container-id-1 input.sk-toggleable__control:checked~div.sk-toggleable__content {max-height: 200px;max-width: 100%;overflow: auto;}#sk-container-id-1 input.sk-toggleable__control:checked~label.sk-toggleable__label-arrow:before {content: \"▾\";}#sk-container-id-1 div.sk-estimator input.sk-toggleable__control:checked~label.sk-toggleable__label {background-color: #d4ebff;}#sk-container-id-1 div.sk-label input.sk-toggleable__control:checked~label.sk-toggleable__label {background-color: #d4ebff;}#sk-container-id-1 input.sk-hidden--visually {border: 0;clip: rect(1px 1px 1px 1px);clip: rect(1px, 1px, 1px, 1px);height: 1px;margin: -1px;overflow: hidden;padding: 0;position: absolute;width: 1px;}#sk-container-id-1 div.sk-estimator {font-family: monospace;background-color: #f0f8ff;border: 1px dotted black;border-radius: 0.25em;box-sizing: border-box;margin-bottom: 0.5em;}#sk-container-id-1 div.sk-estimator:hover {background-color: #d4ebff;}#sk-container-id-1 div.sk-parallel-item::after {content: \"\";width: 100%;border-bottom: 1px solid gray;flex-grow: 1;}#sk-container-id-1 div.sk-label:hover label.sk-toggleable__label {background-color: #d4ebff;}#sk-container-id-1 div.sk-serial::before {content: \"\";position: absolute;border-left: 1px solid gray;box-sizing: border-box;top: 0;bottom: 0;left: 50%;z-index: 0;}#sk-container-id-1 div.sk-serial {display: flex;flex-direction: column;align-items: center;background-color: white;padding-right: 0.2em;padding-left: 0.2em;position: relative;}#sk-container-id-1 div.sk-item {position: relative;z-index: 1;}#sk-container-id-1 div.sk-parallel {display: flex;align-items: stretch;justify-content: center;background-color: white;position: relative;}#sk-container-id-1 div.sk-item::before, #sk-container-id-1 div.sk-parallel-item::before {content: \"\";position: absolute;border-left: 1px solid gray;box-sizing: border-box;top: 0;bottom: 0;left: 50%;z-index: -1;}#sk-container-id-1 div.sk-parallel-item {display: flex;flex-direction: column;z-index: 1;position: relative;background-color: white;}#sk-container-id-1 div.sk-parallel-item:first-child::after {align-self: flex-end;width: 50%;}#sk-container-id-1 div.sk-parallel-item:last-child::after {align-self: flex-start;width: 50%;}#sk-container-id-1 div.sk-parallel-item:only-child::after {width: 0;}#sk-container-id-1 div.sk-dashed-wrapped {border: 1px dashed gray;margin: 0 0.4em 0.5em 0.4em;box-sizing: border-box;padding-bottom: 0.4em;background-color: white;}#sk-container-id-1 div.sk-label label {font-family: monospace;font-weight: bold;display: inline-block;line-height: 1.2em;}#sk-container-id-1 div.sk-label-container {text-align: center;}#sk-container-id-1 div.sk-container {/* jupyter's `normalize.less` sets `[hidden] { display: none; }` but bootstrap.min.css set `[hidden] { display: none !important; }` so we also need the `!important` here to be able to override the default hidden behavior on the sphinx rendered scikit-learn.org. See: https://github.com/scikit-learn/scikit-learn/issues/21755 */display: inline-block !important;position: relative;}#sk-container-id-1 div.sk-text-repr-fallback {display: none;}</style><div id=\"sk-container-id-1\" class=\"sk-top-container\"><div class=\"sk-text-repr-fallback\"><pre>LinearRegression()</pre><b>In a Jupyter environment, please rerun this cell to show the HTML representation or trust the notebook. <br />On GitHub, the HTML representation is unable to render, please try loading this page with nbviewer.org.</b></div><div class=\"sk-container\" hidden><div class=\"sk-item\"><div class=\"sk-estimator sk-toggleable\"><input class=\"sk-toggleable__control sk-hidden--visually\" id=\"sk-estimator-id-1\" type=\"checkbox\" checked><label for=\"sk-estimator-id-1\" class=\"sk-toggleable__label sk-toggleable__label-arrow\">LinearRegression</label><div class=\"sk-toggleable__content\"><pre>LinearRegression()</pre></div></div></div></div></div>"
      ],
      "text/plain": [
       "LinearRegression()"
      ]
     },
     "execution_count": 13,
     "metadata": {},
     "output_type": "execute_result"
    }
   ],
   "source": [
    "lr.fit(X_train,y_train)"
   ]
  },
  {
   "cell_type": "code",
   "execution_count": 14,
   "metadata": {
    "execution": {
     "iopub.execute_input": "2025-06-30T13:22:42.170572Z",
     "iopub.status.busy": "2025-06-30T13:22:42.170011Z",
     "iopub.status.idle": "2025-06-30T13:22:42.178917Z",
     "shell.execute_reply": "2025-06-30T13:22:42.177789Z",
     "shell.execute_reply.started": "2025-06-30T13:22:42.170531Z"
    },
    "trusted": true
   },
   "outputs": [
    {
     "data": {
      "text/plain": [
       "0.17948398058751158"
      ]
     },
     "execution_count": 14,
     "metadata": {},
     "output_type": "execute_result"
    }
   ],
   "source": [
    "y_pred=lr.predict(X_test)\n",
    "r2_score(y_test,y_pred)"
   ]
  },
  {
   "cell_type": "code",
   "execution_count": 15,
   "metadata": {
    "execution": {
     "iopub.execute_input": "2025-06-30T13:22:48.805679Z",
     "iopub.status.busy": "2025-06-30T13:22:48.805317Z",
     "iopub.status.idle": "2025-06-30T13:22:48.955378Z",
     "shell.execute_reply": "2025-06-30T13:22:48.954498Z",
     "shell.execute_reply.started": "2025-06-30T13:22:48.805655Z"
    },
    "trusted": true
   },
   "outputs": [
    {
     "data": {
      "image/png": "[encoded data removed]",
      "text/plain": [
       "<Figure size 640x480 with 1 Axes>"
      ]
     },
     "metadata": {},
     "output_type": "display_data"
    }
   ],
   "source": [
    "plt.plot(X_train,lr.predict(X_train),color=\"g\")\n",
    "plt.plot(X,y,'b.')\n",
    "plt.xlabel(\"X\")\n",
    "plt.ylabel(\"Y\")\n",
    "plt.show()"
   ]
  },
  {
   "cell_type": "code",
   "execution_count": 16,
   "metadata": {
    "execution": {
     "iopub.execute_input": "2025-06-30T13:23:05.360568Z",
     "iopub.status.busy": "2025-06-30T13:23:05.360216Z",
     "iopub.status.idle": "2025-06-30T13:23:05.366040Z",
     "shell.execute_reply": "2025-06-30T13:23:05.365096Z",
     "shell.execute_reply.started": "2025-06-30T13:23:05.360543Z"
    },
    "trusted": true
   },
   "outputs": [],
   "source": [
    "poly=PolynomialFeatures(degree=2,include_bias=True)\n",
    "X_train_trans=poly.fit_transform(X_train)\n",
    "X_test_trans=poly.transform(X_test)"
   ]
  },
  {
   "cell_type": "code",
   "execution_count": 17,
   "metadata": {
    "execution": {
     "iopub.execute_input": "2025-06-30T13:23:09.029989Z",
     "iopub.status.busy": "2025-06-30T13:23:09.029629Z",
     "iopub.status.idle": "2025-06-30T13:23:09.039363Z",
     "shell.execute_reply": "2025-06-30T13:23:09.038205Z",
     "shell.execute_reply.started": "2025-06-30T13:23:09.029963Z"
    },
    "trusted": true
   },
   "outputs": [
    {
     "data": {
      "text/plain": [
       "array([[ 1.00000000e+00, -4.47058731e-01,  1.99861509e-01],\n",
       "       [ 1.00000000e+00,  1.31904811e+00,  1.73988792e+00],\n",
       "       [ 1.00000000e+00,  5.69920146e-01,  3.24808973e-01],\n",
       "       [ 1.00000000e+00,  8.80267124e-01,  7.74870210e-01],\n",
       "       [ 1.00000000e+00, -2.42484621e+00,  5.87987914e+00],\n",
       "       [ 1.00000000e+00,  1.97788358e+00,  3.91202344e+00],\n",
       "       [ 1.00000000e+00, -1.06409380e-01,  1.13229562e-02],\n",
       "       [ 1.00000000e+00, -2.78179994e+00,  7.73841090e+00],\n",
       "       [ 1.00000000e+00, -1.20825976e+00,  1.45989164e+00],\n",
       "       [ 1.00000000e+00, -2.72158844e+00,  7.40704363e+00],\n",
       "       [ 1.00000000e+00, -9.81241974e-01,  9.62835812e-01],\n",
       "       [ 1.00000000e+00,  1.19192361e+00,  1.42068190e+00],\n",
       "       [ 1.00000000e+00,  3.14558882e-01,  9.89472905e-02],\n",
       "       [ 1.00000000e+00, -4.15820246e-01,  1.72906477e-01],\n",
       "       [ 1.00000000e+00, -8.77067083e-01,  7.69246668e-01],\n",
       "       [ 1.00000000e+00, -1.86840599e+00,  3.49094093e+00],\n",
       "       [ 1.00000000e+00,  2.08378192e+00,  4.34214708e+00],\n",
       "       [ 1.00000000e+00,  2.67812179e+00,  7.17233632e+00],\n",
       "       [ 1.00000000e+00, -1.21017948e-01,  1.46453437e-02],\n",
       "       [ 1.00000000e+00,  1.18084532e+00,  1.39439566e+00],\n",
       "       [ 1.00000000e+00, -2.58493828e+00,  6.68190589e+00],\n",
       "       [ 1.00000000e+00, -8.50079703e-01,  7.22635502e-01],\n",
       "       [ 1.00000000e+00, -2.56906682e+00,  6.60010432e+00],\n",
       "       [ 1.00000000e+00, -2.80137646e+00,  7.84771006e+00],\n",
       "       [ 1.00000000e+00, -1.08374848e+00,  1.17451076e+00],\n",
       "       [ 1.00000000e+00,  9.40229769e-01,  8.84032018e-01],\n",
       "       [ 1.00000000e+00,  2.15948857e+00,  4.66339088e+00],\n",
       "       [ 1.00000000e+00, -2.95340196e+00,  8.72258312e+00],\n",
       "       [ 1.00000000e+00, -1.05814004e+00,  1.11966034e+00],\n",
       "       [ 1.00000000e+00,  2.55695345e-01,  6.53801095e-02],\n",
       "       [ 1.00000000e+00, -2.39181347e+00,  5.72077167e+00],\n",
       "       [ 1.00000000e+00,  1.91424078e-01,  3.66431775e-02],\n",
       "       [ 1.00000000e+00,  4.01486548e-01,  1.61191448e-01],\n",
       "       [ 1.00000000e+00, -3.61769433e-01,  1.30877123e-01],\n",
       "       [ 1.00000000e+00,  2.67324933e+00,  7.14626197e+00],\n",
       "       [ 1.00000000e+00, -2.13620552e+00,  4.56337402e+00],\n",
       "       [ 1.00000000e+00, -5.46184960e-01,  2.98318011e-01],\n",
       "       [ 1.00000000e+00,  2.30171809e+00,  5.29790616e+00],\n",
       "       [ 1.00000000e+00, -3.75432772e-01,  1.40949766e-01],\n",
       "       [ 1.00000000e+00, -2.07909512e+00,  4.32263654e+00],\n",
       "       [ 1.00000000e+00,  1.07058838e+00,  1.14615948e+00],\n",
       "       [ 1.00000000e+00, -6.50593391e-01,  4.23271761e-01],\n",
       "       [ 1.00000000e+00,  1.68064220e+00,  2.82455821e+00],\n",
       "       [ 1.00000000e+00,  1.61279990e+00,  2.60112353e+00],\n",
       "       [ 1.00000000e+00, -1.46043392e+00,  2.13286724e+00],\n",
       "       [ 1.00000000e+00,  2.65524579e+00,  7.05033023e+00],\n",
       "       [ 1.00000000e+00, -2.86152482e+00,  8.18832429e+00],\n",
       "       [ 1.00000000e+00, -1.66088932e+00,  2.75855333e+00],\n",
       "       [ 1.00000000e+00,  2.27773844e+00,  5.18809239e+00],\n",
       "       [ 1.00000000e+00, -1.79416124e+00,  3.21901454e+00],\n",
       "       [ 1.00000000e+00, -1.64175125e+00,  2.69534716e+00],\n",
       "       [ 1.00000000e+00,  2.68643827e+00,  7.21695057e+00],\n",
       "       [ 1.00000000e+00, -2.21417478e+00,  4.90256994e+00],\n",
       "       [ 1.00000000e+00,  6.35791466e-01,  4.04230789e-01],\n",
       "       [ 1.00000000e+00, -9.94075239e-02,  9.88185581e-03],\n",
       "       [ 1.00000000e+00,  1.61758693e+00,  2.61658748e+00],\n",
       "       [ 1.00000000e+00,  9.59074293e-01,  9.19823500e-01],\n",
       "       [ 1.00000000e+00, -1.25892209e+00,  1.58488482e+00],\n",
       "       [ 1.00000000e+00, -2.70468109e+00,  7.31529980e+00],\n",
       "       [ 1.00000000e+00,  2.87901703e+00,  8.28873907e+00],\n",
       "       [ 1.00000000e+00, -2.10097623e+00,  4.41410113e+00],\n",
       "       [ 1.00000000e+00, -1.47131952e+00,  2.16478114e+00],\n",
       "       [ 1.00000000e+00,  2.17050420e+00,  4.71108848e+00],\n",
       "       [ 1.00000000e+00,  2.07672342e+00,  4.31278016e+00],\n",
       "       [ 1.00000000e+00, -1.18630560e+00,  1.40732097e+00],\n",
       "       [ 1.00000000e+00, -1.59502335e+00,  2.54409948e+00],\n",
       "       [ 1.00000000e+00, -9.29824608e-01,  8.64573801e-01],\n",
       "       [ 1.00000000e+00, -2.79643862e+00,  7.82006895e+00],\n",
       "       [ 1.00000000e+00,  1.38631187e+00,  1.92186061e+00],\n",
       "       [ 1.00000000e+00, -1.94700138e+00,  3.79081436e+00],\n",
       "       [ 1.00000000e+00,  3.44426507e-01,  1.18629619e-01],\n",
       "       [ 1.00000000e+00, -2.84808618e+00,  8.11159488e+00],\n",
       "       [ 1.00000000e+00, -9.04492258e-01,  8.18106245e-01],\n",
       "       [ 1.00000000e+00,  2.18606393e+00,  4.77887549e+00],\n",
       "       [ 1.00000000e+00,  7.48961118e-01,  5.60942756e-01],\n",
       "       [ 1.00000000e+00, -1.95996847e+00,  3.84147641e+00],\n",
       "       [ 1.00000000e+00,  2.06885613e+00,  4.28016570e+00],\n",
       "       [ 1.00000000e+00,  2.80000224e+00,  7.84001253e+00],\n",
       "       [ 1.00000000e+00,  1.23399847e+00,  1.52275223e+00],\n",
       "       [ 1.00000000e+00,  1.09407700e+00,  1.19700447e+00],\n",
       "       [ 1.00000000e+00,  2.15880154e+00,  4.66042409e+00],\n",
       "       [ 1.00000000e+00, -2.18050014e+00,  4.75458087e+00],\n",
       "       [ 1.00000000e+00,  2.36002031e+00,  5.56969586e+00],\n",
       "       [ 1.00000000e+00, -2.72618117e+00,  7.43206377e+00],\n",
       "       [ 1.00000000e+00, -2.12495251e+00,  4.51542315e+00],\n",
       "       [ 1.00000000e+00, -2.42705116e-01,  5.89057733e-02],\n",
       "       [ 1.00000000e+00, -7.82178148e-01,  6.11802656e-01],\n",
       "       [ 1.00000000e+00, -4.97202254e-01,  2.47210081e-01],\n",
       "       [ 1.00000000e+00, -2.81983846e+00,  7.95148894e+00],\n",
       "       [ 1.00000000e+00,  1.73995354e+00,  3.02743831e+00],\n",
       "       [ 1.00000000e+00,  2.05071593e+00,  4.20543583e+00],\n",
       "       [ 1.00000000e+00, -1.40227374e+00,  1.96637164e+00],\n",
       "       [ 1.00000000e+00,  1.65275433e+00,  2.73159689e+00],\n",
       "       [ 1.00000000e+00, -1.41102753e+00,  1.99099868e+00],\n",
       "       [ 1.00000000e+00, -3.30201809e-01,  1.09033235e-01],\n",
       "       [ 1.00000000e+00, -2.15857674e+00,  4.65945355e+00],\n",
       "       [ 1.00000000e+00, -1.84921708e+00,  3.41960380e+00],\n",
       "       [ 1.00000000e+00, -2.06265460e+00,  4.25454401e+00],\n",
       "       [ 1.00000000e+00, -2.92521452e+00,  8.55687997e+00],\n",
       "       [ 1.00000000e+00,  8.45978793e-01,  7.15680117e-01],\n",
       "       [ 1.00000000e+00,  2.22015804e+00,  4.92910172e+00],\n",
       "       [ 1.00000000e+00, -4.59258575e-01,  2.10918438e-01],\n",
       "       [ 1.00000000e+00, -2.06825014e+00,  4.27765863e+00],\n",
       "       [ 1.00000000e+00,  1.15972418e+00,  1.34496017e+00],\n",
       "       [ 1.00000000e+00, -1.07810165e+00,  1.16230317e+00],\n",
       "       [ 1.00000000e+00,  1.89577812e+00,  3.59397469e+00],\n",
       "       [ 1.00000000e+00,  2.41636352e+00,  5.83881268e+00],\n",
       "       [ 1.00000000e+00, -3.52005673e-01,  1.23907993e-01],\n",
       "       [ 1.00000000e+00, -9.51076686e-01,  9.04546862e-01],\n",
       "       [ 1.00000000e+00,  4.86885454e-01,  2.37057446e-01],\n",
       "       [ 1.00000000e+00,  2.51384593e+00,  6.31942136e+00],\n",
       "       [ 1.00000000e+00, -2.18034219e+00,  4.75389208e+00],\n",
       "       [ 1.00000000e+00,  4.97455961e-02,  2.47462433e-03],\n",
       "       [ 1.00000000e+00,  2.14488895e+00,  4.60054860e+00],\n",
       "       [ 1.00000000e+00, -6.21747445e-01,  3.86569886e-01],\n",
       "       [ 1.00000000e+00, -1.39542638e+00,  1.94721477e+00],\n",
       "       [ 1.00000000e+00,  1.71453528e+00,  2.93963122e+00],\n",
       "       [ 1.00000000e+00,  1.22882827e+00,  1.51001892e+00],\n",
       "       [ 1.00000000e+00, -1.88541913e+00,  3.55480531e+00],\n",
       "       [ 1.00000000e+00, -2.17933896e+00,  4.74951828e+00],\n",
       "       [ 1.00000000e+00, -2.63505968e-01,  6.94353950e-02],\n",
       "       [ 1.00000000e+00, -2.74801475e+00,  7.55158509e+00],\n",
       "       [ 1.00000000e+00, -1.90800219e+00,  3.64047237e+00],\n",
       "       [ 1.00000000e+00,  1.72105038e+00,  2.96201441e+00],\n",
       "       [ 1.00000000e+00, -2.95183438e+00,  8.71332622e+00],\n",
       "       [ 1.00000000e+00, -2.45977100e+00,  6.05047339e+00],\n",
       "       [ 1.00000000e+00,  2.67446618e+00,  7.15276933e+00],\n",
       "       [ 1.00000000e+00,  1.68400139e+00,  2.83586068e+00],\n",
       "       [ 1.00000000e+00,  1.93623642e-01,  3.74901146e-02],\n",
       "       [ 1.00000000e+00, -2.42363196e+00,  5.87399190e+00],\n",
       "       [ 1.00000000e+00, -1.66023092e+00,  2.75636670e+00],\n",
       "       [ 1.00000000e+00,  1.91216196e-01,  3.65636335e-02],\n",
       "       [ 1.00000000e+00,  1.83825195e-01,  3.37917024e-02],\n",
       "       [ 1.00000000e+00,  2.41484972e+00,  5.83149916e+00],\n",
       "       [ 1.00000000e+00, -2.19316957e+00,  4.80999274e+00],\n",
       "       [ 1.00000000e+00,  7.22671442e-01,  5.22254013e-01],\n",
       "       [ 1.00000000e+00,  8.61150924e-01,  7.41580914e-01],\n",
       "       [ 1.00000000e+00,  1.07734901e+00,  1.16068089e+00],\n",
       "       [ 1.00000000e+00,  2.96696079e+00,  8.80285635e+00],\n",
       "       [ 1.00000000e+00,  2.06866434e+00,  4.27937214e+00],\n",
       "       [ 1.00000000e+00,  6.46951064e-01,  4.18545679e-01],\n",
       "       [ 1.00000000e+00, -5.13086422e-01,  2.63257677e-01],\n",
       "       [ 1.00000000e+00,  2.37954337e+00,  5.66222665e+00],\n",
       "       [ 1.00000000e+00, -1.24809313e+00,  1.55773646e+00],\n",
       "       [ 1.00000000e+00, -1.00320722e+00,  1.00642472e+00],\n",
       "       [ 1.00000000e+00, -2.59195891e-01,  6.71825098e-02],\n",
       "       [ 1.00000000e+00, -1.14670544e+00,  1.31493337e+00],\n",
       "       [ 1.00000000e+00,  2.94826989e+00,  8.69229532e+00],\n",
       "       [ 1.00000000e+00, -8.57985018e-02,  7.36138292e-03],\n",
       "       [ 1.00000000e+00,  1.29905714e+00,  1.68754946e+00],\n",
       "       [ 1.00000000e+00, -2.22315213e+00,  4.94240540e+00],\n",
       "       [ 1.00000000e+00, -5.38308213e-01,  2.89775733e-01],\n",
       "       [ 1.00000000e+00,  1.14610720e+00,  1.31356171e+00],\n",
       "       [ 1.00000000e+00, -2.86099834e+00,  8.18531150e+00],\n",
       "       [ 1.00000000e+00, -2.89304561e+00,  8.36971290e+00],\n",
       "       [ 1.00000000e+00, -5.43856520e-01,  2.95779914e-01],\n",
       "       [ 1.00000000e+00,  5.74795637e-01,  3.30390025e-01],\n",
       "       [ 1.00000000e+00, -1.46680983e+00,  2.15153108e+00],\n",
       "       [ 1.00000000e+00,  7.06213768e-01,  4.98737886e-01],\n",
       "       [ 1.00000000e+00,  2.31904690e+00,  5.37797852e+00]])"
      ]
     },
     "execution_count": 17,
     "metadata": {},
     "output_type": "execute_result"
    }
   ],
   "source": [
    "X_train_trans"
   ]
  },
  {
   "cell_type": "code",
   "execution_count": 38,
   "metadata": {
    "execution": {
     "iopub.execute_input": "2025-06-30T11:13:09.389566Z",
     "iopub.status.busy": "2025-06-30T11:13:09.389185Z",
     "iopub.status.idle": "2025-06-30T11:13:09.397459Z",
     "shell.execute_reply": "2025-06-30T11:13:09.396641Z",
     "shell.execute_reply.started": "2025-06-30T11:13:09.389538Z"
    },
    "trusted": true
   },
   "outputs": [
    {
     "data": {
      "text/plain": [
       "array([[ 1.00000000e+00, -5.16763202e-01,  2.67044207e-01],\n",
       "       [ 1.00000000e+00,  4.51915055e-02,  2.04227217e-03],\n",
       "       [ 1.00000000e+00,  2.52157965e+00,  6.35836391e+00],\n",
       "       [ 1.00000000e+00, -1.94893719e+00,  3.79835617e+00],\n",
       "       [ 1.00000000e+00,  4.22991004e-01,  1.78921389e-01],\n",
       "       [ 1.00000000e+00,  2.37283498e+00,  5.63034584e+00],\n",
       "       [ 1.00000000e+00,  1.33436227e+00,  1.78052268e+00],\n",
       "       [ 1.00000000e+00, -1.65495075e+00,  2.73886198e+00],\n",
       "       [ 1.00000000e+00,  1.64245400e+00,  2.69765515e+00],\n",
       "       [ 1.00000000e+00,  1.98376767e+00,  3.93533415e+00],\n",
       "       [ 1.00000000e+00,  1.41662709e+00,  2.00683231e+00],\n",
       "       [ 1.00000000e+00,  2.58427564e+00,  6.67848056e+00],\n",
       "       [ 1.00000000e+00,  1.96974576e+00,  3.87989837e+00],\n",
       "       [ 1.00000000e+00,  1.64276485e+00,  2.69867637e+00],\n",
       "       [ 1.00000000e+00,  1.31109284e+00,  1.71896442e+00],\n",
       "       [ 1.00000000e+00,  4.24443404e-01,  1.80152203e-01],\n",
       "       [ 1.00000000e+00, -2.47430264e+00,  6.12217358e+00],\n",
       "       [ 1.00000000e+00, -3.95481505e-01,  1.56405621e-01],\n",
       "       [ 1.00000000e+00, -2.67137495e+00,  7.13624411e+00],\n",
       "       [ 1.00000000e+00,  2.55645128e+00,  6.53544317e+00],\n",
       "       [ 1.00000000e+00, -1.96850899e+00,  3.87502766e+00],\n",
       "       [ 1.00000000e+00,  2.38879796e+00,  5.70635570e+00],\n",
       "       [ 1.00000000e+00, -2.01534031e-01,  4.06159657e-02],\n",
       "       [ 1.00000000e+00,  2.19577612e+00,  4.82143278e+00],\n",
       "       [ 1.00000000e+00,  1.63423673e-02,  2.67072970e-04],\n",
       "       [ 1.00000000e+00,  1.33867289e-01,  1.79204510e-02],\n",
       "       [ 1.00000000e+00,  2.48046329e+00,  6.15269812e+00],\n",
       "       [ 1.00000000e+00,  2.19949603e+00,  4.83778278e+00],\n",
       "       [ 1.00000000e+00,  2.09962564e+00,  4.40842782e+00],\n",
       "       [ 1.00000000e+00,  1.58680944e+00,  2.51796421e+00],\n",
       "       [ 1.00000000e+00,  2.73643551e-01,  7.48807929e-02],\n",
       "       [ 1.00000000e+00,  6.87748846e-01,  4.72998475e-01],\n",
       "       [ 1.00000000e+00,  9.86838117e-01,  9.73849469e-01],\n",
       "       [ 1.00000000e+00,  1.45013667e+00,  2.10289635e+00],\n",
       "       [ 1.00000000e+00, -8.68213157e-02,  7.53794086e-03],\n",
       "       [ 1.00000000e+00, -2.96475379e+00,  8.78976504e+00],\n",
       "       [ 1.00000000e+00, -2.22874302e+00,  4.96729545e+00],\n",
       "       [ 1.00000000e+00,  1.44529074e+00,  2.08886532e+00],\n",
       "       [ 1.00000000e+00,  1.43588991e+00,  2.06177985e+00],\n",
       "       [ 1.00000000e+00,  2.83808188e-02,  8.05470876e-04]])"
      ]
     },
     "execution_count": 38,
     "metadata": {},
     "output_type": "execute_result"
    }
   ],
   "source": [
    "X_test_trans"
   ]
  },
  {
   "cell_type": "code",
   "execution_count": 19,
   "metadata": {
    "execution": {
     "iopub.execute_input": "2025-06-30T13:23:35.490559Z",
     "iopub.status.busy": "2025-06-30T13:23:35.490203Z",
     "iopub.status.idle": "2025-06-30T13:23:35.499397Z",
     "shell.execute_reply": "2025-06-30T13:23:35.498412Z",
     "shell.execute_reply.started": "2025-06-30T13:23:35.490533Z"
    },
    "trusted": true
   },
   "outputs": [
    {
     "data": {
      "text/html": [
       "<style>#sk-container-id-3 {color: black;background-color: white;}#sk-container-id-3 pre{padding: 0;}#sk-container-id-3 div.sk-toggleable {background-color: white;}#sk-container-id-3 label.sk-toggleable__label {cursor: pointer;display: block;width: 100%;margin-bottom: 0;padding: 0.3em;box-sizing: border-box;text-align: center;}#sk-container-id-3 label.sk-toggleable__label-arrow:before {content: \"▸\";float: left;margin-right: 0.25em;color: #696969;}#sk-container-id-3 label.sk-toggleable__label-arrow:hover:before {color: black;}#sk-container-id-3 div.sk-estimator:hover label.sk-toggleable__label-arrow:before {color: black;}#sk-container-id-3 div.sk-toggleable__content {max-height: 0;max-width: 0;overflow: hidden;text-align: left;background-color: #f0f8ff;}#sk-container-id-3 div.sk-toggleable__content pre {margin: 0.2em;color: black;border-radius: 0.25em;background-color: #f0f8ff;}#sk-container-id-3 input.sk-toggleable__control:checked~div.sk-toggleable__content {max-height: 200px;max-width: 100%;overflow: auto;}#sk-container-id-3 input.sk-toggleable__control:checked~label.sk-toggleable__label-arrow:before {content: \"▾\";}#sk-container-id-3 div.sk-estimator input.sk-toggleable__control:checked~label.sk-toggleable__label {background-color: #d4ebff;}#sk-container-id-3 div.sk-label input.sk-toggleable__control:checked~label.sk-toggleable__label {background-color: #d4ebff;}#sk-container-id-3 input.sk-hidden--visually {border: 0;clip: rect(1px 1px 1px 1px);clip: rect(1px, 1px, 1px, 1px);height: 1px;margin: -1px;overflow: hidden;padding: 0;position: absolute;width: 1px;}#sk-container-id-3 div.sk-estimator {font-family: monospace;background-color: #f0f8ff;border: 1px dotted black;border-radius: 0.25em;box-sizing: border-box;margin-bottom: 0.5em;}#sk-container-id-3 div.sk-estimator:hover {background-color: #d4ebff;}#sk-container-id-3 div.sk-parallel-item::after {content: \"\";width: 100%;border-bottom: 1px solid gray;flex-grow: 1;}#sk-container-id-3 div.sk-label:hover label.sk-toggleable__label {background-color: #d4ebff;}#sk-container-id-3 div.sk-serial::before {content: \"\";position: absolute;border-left: 1px solid gray;box-sizing: border-box;top: 0;bottom: 0;left: 50%;z-index: 0;}#sk-container-id-3 div.sk-serial {display: flex;flex-direction: column;align-items: center;background-color: white;padding-right: 0.2em;padding-left: 0.2em;position: relative;}#sk-container-id-3 div.sk-item {position: relative;z-index: 1;}#sk-container-id-3 div.sk-parallel {display: flex;align-items: stretch;justify-content: center;background-color: white;position: relative;}#sk-container-id-3 div.sk-item::before, #sk-container-id-3 div.sk-parallel-item::before {content: \"\";position: absolute;border-left: 1px solid gray;box-sizing: border-box;top: 0;bottom: 0;left: 50%;z-index: -1;}#sk-container-id-3 div.sk-parallel-item {display: flex;flex-direction: column;z-index: 1;position: relative;background-color: white;}#sk-container-id-3 div.sk-parallel-item:first-child::after {align-self: flex-end;width: 50%;}#sk-container-id-3 div.sk-parallel-item:last-child::after {align-self: flex-start;width: 50%;}#sk-container-id-3 div.sk-parallel-item:only-child::after {width: 0;}#sk-container-id-3 div.sk-dashed-wrapped {border: 1px dashed gray;margin: 0 0.4em 0.5em 0.4em;box-sizing: border-box;padding-bottom: 0.4em;background-color: white;}#sk-container-id-3 div.sk-label label {font-family: monospace;font-weight: bold;display: inline-block;line-height: 1.2em;}#sk-container-id-3 div.sk-label-container {text-align: center;}#sk-container-id-3 div.sk-container {/* jupyter's `normalize.less` sets `[hidden] { display: none; }` but bootstrap.min.css set `[hidden] { display: none !important; }` so we also need the `!important` here to be able to override the default hidden behavior on the sphinx rendered scikit-learn.org. See: https://github.com/scikit-learn/scikit-learn/issues/21755 */display: inline-block !important;position: relative;}#sk-container-id-3 div.sk-text-repr-fallback {display: none;}</style><div id=\"sk-container-id-3\" class=\"sk-top-container\"><div class=\"sk-text-repr-fallback\"><pre>LinearRegression()</pre><b>In a Jupyter environment, please rerun this cell to show the HTML representation or trust the notebook. <br />On GitHub, the HTML representation is unable to render, please try loading this page with nbviewer.org.</b></div><div class=\"sk-container\" hidden><div class=\"sk-item\"><div class=\"sk-estimator sk-toggleable\"><input class=\"sk-toggleable__control sk-hidden--visually\" id=\"sk-estimator-id-3\" type=\"checkbox\" checked><label for=\"sk-estimator-id-3\" class=\"sk-toggleable__label sk-toggleable__label-arrow\">LinearRegression</label><div class=\"sk-toggleable__content\"><pre>LinearRegression()</pre></div></div></div></div></div>"
      ],
      "text/plain": [
       "LinearRegression()"
      ]
     },
     "execution_count": 19,
     "metadata": {},
     "output_type": "execute_result"
    }
   ],
   "source": [
    "lr=LinearRegression()\n",
    "lr.fit(X_train_trans,y_train)"
   ]
  },
  {
   "cell_type": "code",
   "execution_count": 20,
   "metadata": {
    "execution": {
     "iopub.execute_input": "2025-06-30T13:23:38.615035Z",
     "iopub.status.busy": "2025-06-30T13:23:38.614688Z",
     "iopub.status.idle": "2025-06-30T13:23:38.619705Z",
     "shell.execute_reply": "2025-06-30T13:23:38.618779Z",
     "shell.execute_reply.started": "2025-06-30T13:23:38.615010Z"
    },
    "trusted": true
   },
   "outputs": [],
   "source": [
    "y_pred = lr.predict(X_test_trans)"
   ]
  },
  {
   "cell_type": "code",
   "execution_count": 21,
   "metadata": {
    "execution": {
     "iopub.execute_input": "2025-06-30T13:23:42.224196Z",
     "iopub.status.busy": "2025-06-30T13:23:42.223857Z",
     "iopub.status.idle": "2025-06-30T13:23:42.231575Z",
     "shell.execute_reply": "2025-06-30T13:23:42.230453Z",
     "shell.execute_reply.started": "2025-06-30T13:23:42.224172Z"
    },
    "trusted": true
   },
   "outputs": [
    {
     "data": {
      "text/plain": [
       "0.8511052688969852"
      ]
     },
     "execution_count": 21,
     "metadata": {},
     "output_type": "execute_result"
    }
   ],
   "source": [
    "r2_score(y_test,y_pred)"
   ]
  },
  {
   "cell_type": "code",
   "execution_count": 22,
   "metadata": {
    "execution": {
     "iopub.execute_input": "2025-06-30T13:24:12.510857Z",
     "iopub.status.busy": "2025-06-30T13:24:12.510462Z",
     "iopub.status.idle": "2025-06-30T13:24:12.516407Z",
     "shell.execute_reply": "2025-06-30T13:24:12.515413Z",
     "shell.execute_reply.started": "2025-06-30T13:24:12.510832Z"
    },
    "trusted": true
   },
   "outputs": [
    {
     "name": "stdout",
     "output_type": "stream",
     "text": [
      "[[0.         0.88237752 0.77727913]]\n",
      "[2.05278035]\n"
     ]
    }
   ],
   "source": [
    "print(lr.coef_)\n",
    "print(lr.intercept_)"
   ]
  },
  {
   "cell_type": "code",
   "execution_count": 32,
   "metadata": {
    "execution": {
     "iopub.execute_input": "2025-06-30T13:26:38.266053Z",
     "iopub.status.busy": "2025-06-30T13:26:38.265680Z",
     "iopub.status.idle": "2025-06-30T13:26:38.271242Z",
     "shell.execute_reply": "2025-06-30T13:26:38.270303Z",
     "shell.execute_reply.started": "2025-06-30T13:26:38.266028Z"
    },
    "trusted": true
   },
   "outputs": [],
   "source": [
    "X_new=np.linspace(-3, 3, 200).reshape(200, 1)\n",
    "X_new_poly = poly.transform(X_new)\n",
    "y_new = lr.predict(X_new_poly)"
   ]
  },
  {
   "cell_type": "code",
   "execution_count": 33,
   "metadata": {
    "execution": {
     "iopub.execute_input": "2025-06-30T13:26:39.914940Z",
     "iopub.status.busy": "2025-06-30T13:26:39.914608Z",
     "iopub.status.idle": "2025-06-30T13:26:40.095134Z",
     "shell.execute_reply": "2025-06-30T13:26:40.094099Z",
     "shell.execute_reply.started": "2025-06-30T13:26:39.914916Z"
    },
    "trusted": true
   },
   "outputs": [
    {
     "data": {
      "image/png": "[encoded data removed]",
      "text/plain": [
       "<Figure size 640x480 with 1 Axes>"
      ]
     },
     "metadata": {},
     "output_type": "display_data"
    }
   ],
   "source": [
    "plt.plot(X_new, y_new, \"r-\", linewidth=2, label=\"Predictions\")\n",
    "plt.plot(X_train, y_train, \"b.\",label='Training points')\n",
    "plt.plot(X_test, y_test, \"g.\",label='Testing points')\n",
    "plt.xlabel(\"X\")\n",
    "plt.ylabel(\"y\")\n",
    "plt.legend()\n",
    "plt.show()"
   ]
  },
  {
   "cell_type": "code",
   "execution_count": 39,
   "metadata": {
    "execution": {
     "iopub.execute_input": "2025-06-30T13:45:14.845040Z",
     "iopub.status.busy": "2025-06-30T13:45:14.844687Z",
     "iopub.status.idle": "2025-06-30T13:45:14.852378Z",
     "shell.execute_reply": "2025-06-30T13:45:14.851431Z",
     "shell.execute_reply.started": "2025-06-30T13:45:14.845017Z"
    },
    "trusted": true
   },
   "outputs": [],
   "source": [
    "def polynomial_regression(degree):\n",
    "    # Generate smooth values for plotting\n",
    "    X_new = np.linspace(-3, 3, 100).reshape(100, 1)\n",
    "    \n",
    "    # Build the pipeline: Polynomial → StandardScaler → LinearRegression\n",
    "    polynomial_regression = Pipeline([\n",
    "        (\"poly_features\", PolynomialFeatures(degree=degree, include_bias=False)),\n",
    "        (\"std_scaler\", StandardScaler()),\n",
    "        (\"lin_reg\", LinearRegression()),\n",
    "    ])\n",
    "    \n",
    "    # Fit model on training data only (for fairness)\n",
    "    polynomial_regression.fit(X_train, y_train)\n",
    "\n",
    "    # Predict on X_new using the full pipeline\n",
    "    y_new = polynomial_regression.predict(X_new)\n",
    "\n",
    "    # Plot the model's prediction curve\n",
    "    plt.plot(X_new, y_new, 'r', label=f\"Degree {degree}\", linewidth=2)\n",
    "    plt.plot(X_train, y_train, \"b.\", label=\"Training Data\")\n",
    "    plt.plot(X_test, y_test, \"g.\", label=\"Test Data\")\n",
    "    plt.legend(loc=\"upper left\")\n",
    "    plt.xlabel(\"X\")\n",
    "    plt.ylabel(\"y\")\n",
    "    plt.axis([-3, 3, 0, 10])\n",
    "    plt.title(f\"Polynomial Regression (degree={degree})\")\n",
    "    plt.grid(True)\n",
    "    plt.show()"
   ]
  },
  {
   "cell_type": "code",
   "execution_count": 42,
   "metadata": {
    "execution": {
     "iopub.execute_input": "2025-06-30T13:45:31.774922Z",
     "iopub.status.busy": "2025-06-30T13:45:31.774603Z",
     "iopub.status.idle": "2025-06-30T13:45:31.971008Z",
     "shell.execute_reply": "2025-06-30T13:45:31.970073Z",
     "shell.execute_reply.started": "2025-06-30T13:45:31.774898Z"
    },
    "trusted": true
   },
   "outputs": [
    {
     "data": {
      "image/png": "[encoded data removed]",
      "text/plain": [
       "<Figure size 640x480 with 1 Axes>"
      ]
     },
     "metadata": {},
     "output_type": "display_data"
    }
   ],
   "source": [
    "polynomial_regression(3)"
   ]
  },
  {
   "cell_type": "code",
   "execution_count": 43,
   "metadata": {
    "execution": {
     "iopub.execute_input": "2025-06-30T13:46:59.705936Z",
     "iopub.status.busy": "2025-06-30T13:46:59.705601Z",
     "iopub.status.idle": "2025-06-30T13:46:59.712810Z",
     "shell.execute_reply": "2025-06-30T13:46:59.711862Z",
     "shell.execute_reply.started": "2025-06-30T13:46:59.705913Z"
    },
    "trusted": true
   },
   "outputs": [
    {
     "data": {
      "text/plain": [
       "array([[0],\n",
       "       [1],\n",
       "       [2]])"
      ]
     },
     "execution_count": 43,
     "metadata": {},
     "output_type": "execute_result"
    }
   ],
   "source": [
    "poly.powers_"
   ]
  },
  {
   "cell_type": "code",
   "execution_count": 44,
   "metadata": {
    "execution": {
     "iopub.execute_input": "2025-06-30T13:49:48.465685Z",
     "iopub.status.busy": "2025-06-30T13:49:48.465324Z",
     "iopub.status.idle": "2025-06-30T13:49:48.649869Z",
     "shell.execute_reply": "2025-06-30T13:49:48.648802Z",
     "shell.execute_reply.started": "2025-06-30T13:49:48.465660Z"
    },
    "trusted": true
   },
   "outputs": [
    {
     "name": "stderr",
     "output_type": "stream",
     "text": [
      "/usr/local/lib/python3.11/dist-packages/sklearn/utils/validation.py:1143: DataConversionWarning: A column-vector y was passed when a 1d array was expected. Please change the shape of y to (n_samples, ), for example using ravel().\n",
      "  y = column_or_1d(y, warn=True)\n"
     ]
    },
    {
     "data": {
      "image/png": "[encoded data removed]",
      "text/plain": [
       "<Figure size 640x480 with 1 Axes>"
      ]
     },
     "metadata": {},
     "output_type": "display_data"
    }
   ],
   "source": [
    "poly=PolynomialFeatures(degree=2)\n",
    "X_train_trans=poly.fit_transform(X_train)\n",
    "X_test_trans=poly.transform(X_test)\n",
    "\n",
    "sgd=SGDRegressor(max_iter=100)\n",
    "sgd.fit(X_train_trans,y_train)\n",
    "X_new=np.linspace(-2.9, 2.8, 200).reshape(200, 1)\n",
    "X_new_poly = poly.transform(X_new)\n",
    "y_new = sgd.predict(X_new_poly)\n",
    "\n",
    "y_pred = sgd.predict(X_test_trans)\n",
    "\n",
    "plt.plot(X_new, y_new, \"r-\", linewidth=2, label=\"Predictions \" + str(round(r2_score(y_test,y_pred),2)))\n",
    "plt.plot(X_train, y_train, \"b.\",label='Training points')\n",
    "plt.plot(X_test, y_test, \"g.\",label='Testing points')\n",
    "plt.xlabel(\"X\")\n",
    "plt.ylabel(\"y\")\n",
    "plt.legend()\n",
    "plt.show()"
   ]
  },
  {
   "cell_type": "code",
   "execution_count": 45,
   "metadata": {
    "execution": {
     "iopub.execute_input": "2025-06-30T13:51:34.420306Z",
     "iopub.status.busy": "2025-06-30T13:51:34.419980Z",
     "iopub.status.idle": "2025-06-30T13:51:34.425717Z",
     "shell.execute_reply": "2025-06-30T13:51:34.424653Z",
     "shell.execute_reply.started": "2025-06-30T13:51:34.420277Z"
    },
    "trusted": true
   },
   "outputs": [],
   "source": [
    "x=7*np.random.rand(100,1)-2.8\n",
    "y=7*np.random.rand(100,1)-2.8\n",
    "z = x**2 + y**2 + 0.2*x + 0.2*y + 0.1*x*y +2 + np.random.randn(100, 1)\n",
    "# z = x^2 + y^2 + 0.2x + 0.2y + 0.1xy + 2"
   ]
  },
  {
   "cell_type": "code",
   "execution_count": 47,
   "metadata": {
    "execution": {
     "iopub.execute_input": "2025-06-30T13:52:00.604885Z",
     "iopub.status.busy": "2025-06-30T13:52:00.604480Z",
     "iopub.status.idle": "2025-06-30T13:52:00.655491Z",
     "shell.execute_reply": "2025-06-30T13:52:00.654605Z",
     "shell.execute_reply.started": "2025-06-30T13:52:00.604859Z"
    },
    "trusted": true
   },
   "outputs": [
    {
     "data": {
      "text/html": [
       "<html>\n",
       "<head><meta charset=\"utf-8\" /></head>\n",
       "<body>\n",
       "    <div>            <script src=\"https://cdnjs.cloudflare.com/ajax/libs/mathjax/2.7.5/MathJax.js?config=TeX-AMS-MML_SVG\"></script><script type=\"text/javascript\">if (window.MathJax && window.MathJax.Hub && window.MathJax.Hub.Config) {window.MathJax.Hub.Config({SVG: {font: \"STIX-Web\"}});}</script>                <script type=\"text/javascript\">window.PlotlyConfig = {MathJaxConfig: 'local'};</script>\n",
       "        <script charset=\"utf-8\" src=\"https://cdn.plot.ly/plotly-2.35.2.min.js\"></script>                <div id=\"c7dd0c26-9ad5-4a70-a432-9229ceceadc8\" class=\"plotly-graph-div\" style=\"height:525px; width:100%;\"></div>            <script type=\"text/javascript\">                                    window.PLOTLYENV=window.PLOTLYENV || {};                                    if (document.getElementById(\"c7dd0c26-9ad5-4a70-a432-9229ceceadc8\")) {                    Plotly.newPlot(                        \"c7dd0c26-9ad5-4a70-a432-9229ceceadc8\",                        [{\"hovertemplate\":\"x=%{x}\\u003cbr\\u003ey=%{y}\\u003cbr\\u003ez=%{z}\\u003cextra\\u003e\\u003c\\u002fextra\\u003e\",\"legendgroup\":\"\",\"marker\":{\"color\":\"#636efa\",\"symbol\":\"circle\"},\"mode\":\"markers\",\"name\":\"\",\"scene\":\"scene\",\"showlegend\":false,\"x\":[2.8815584115903716,2.858743323360952,-0.6056893879700884,-0.5727401011444764,-1.2092662138783843,-1.4862601898796308,0.6734472170454877,-0.38411495918174277,3.1665382340193844,1.7813729386239556,2.6536271129485396,-1.7789093533376317,-2.305149859177957,-0.5650722280500085,-1.8785737136437541,4.094000091031703,3.848747687983443,2.408526578714092,2.856145472514182,2.8464610745213434,0.09863237608750408,-2.418857451007459,2.366941856439028,3.597361019460969,-1.1867164266439838,2.556733782372654,4.1991818757743635,1.0728072646251121,-0.7043329153471909,-0.8923873358079719,-2.5983034438188763,0.9348649618072384,1.8558783872208826,-0.15777181349592162,3.4499588367764975,-0.23247970220293812,-2.5475031396352037,0.05467399184066313,-0.9930484081566617,1.039727898724124,2.427794203567588,-1.7439711952917876,0.9055878891147673,3.9246701963711397,3.858772360210212,2.968176301455329,-2.6306059546018523,0.4228942684250776,1.3451333433089205,0.838401589901844,-0.30029765376914197,-2.3267646174677576,-2.237099071901315,3.549747389858733,-2.2123732363261492,0.2223924426670285,3.7347971697679974,2.7925137958046458,0.013357238625304024,-0.36340232300582587,-1.022876598418192,0.10028099465178464,-0.08597683185450933,-0.0399090537581297,-1.6895127262227463,-2.351820511013835,2.887178504533817,4.179557600041047,-2.5449994212955835,0.613458904889379,3.0020579399099256,1.674527532587212,3.319712833771126,3.62769932496495,1.6507384245617782,1.4974926708458876,2.562452249720364,1.588216359380148,3.515893085322607,0.6098331911282484,3.47620618735269,-2.2543948166503363,0.599061525602095,1.9335724870817073,-0.07046986414231071,1.953285769853168,4.011127883335413,-0.8954061129707478,1.4811902454499588,2.114024786678419,2.6849531182926523,4.054880801908789,1.7533571776229353,2.669636600801545,4.194755887083066,1.2034315961997084,0.48108421086413156,-2.3214519034950376,3.869714088010052,0.27666791598160057],\"y\":[3.0598878103827563,2.3082914578012845,0.8068378726887917,-2.704095013401227,3.732374530200265,0.3521788614860837,-2.7861101466303886,0.8276381979761944,3.2130956098323535,-2.6149165454387404,-0.44421074013608974,1.101832259111721,0.8436248583148855,2.56537255244704,-2.1964800588084827,2.6368277921105445,2.9415590065569663,-0.12984573654710996,1.2230523715233774,-1.8369379940031485,-2.3511034057522635,0.1557637339747342,-2.431800698071789,2.6676875667046156,0.9981207877050644,-2.2290721838404735,2.885471123354969,2.3470688501371564,-0.7200968665387206,-0.7539771817092977,-1.960107661231107,-1.0019512718076706,3.3145168912638887,-2.29465948718902,3.3063505312922645,-1.8346190597902328,2.9857977586450914,0.06169958728192437,3.499973386437488,4.071317279337888,-1.391267574468661,3.6000488616501887,0.1773603488962241,1.2513652072529506,-2.4903286711558503,-2.7153774170840936,-1.4887920475964802,2.5752477306352697,-0.6910206730944237,-2.192249219373212,3.0206972001007033,-1.6389817753185285,-2.0136657806467553,-0.9050204668332611,-1.7752008302439144,-2.002046132895005,-1.0723380883108589,0.19294007991694917,0.6044540342418916,0.08205930632013425,0.6776377073599753,-0.5024847608397516,3.683013426300813,0.6026611096328138,-0.48909229421433453,-2.2415754060654307,0.7134692915423262,0.404681715997083,2.034981029647615,1.2148217993979165,2.9272959304108754,2.9202783089172337,2.069152690293026,0.43196315315681755,1.6742831722836042,4.182339459540908,3.656339481192184,3.0776587186696522,-0.40557137871344073,-0.403780963823424,-1.1162121001925942,2.1077602409520573,-2.374562851344847,-2.120000496534157,1.6362381588592037,1.4857963641389595,3.5693315720205634,0.8718789022578379,-1.0963231281229096,-2.6942941689838196,3.392406087057352,0.15148370462869298,2.2963789663041725,-0.876168589039793,-1.2079167455705457,-1.2629369583293466,2.164166455164466,-0.34902606329977504,3.588238342183004,-2.5141060852630024],\"z\":[22.85116141626003,18.10454897199334,4.645188476226209,7.645058117422346,17.051103593616563,4.201957852064027,10.005804187470455,2.876521065518397,22.722784034565162,12.972200890605446,9.022728420683684,7.624887500532408,8.343918273681636,9.06425729985533,10.036126003349644,30.49138926546862,27.30305441445235,9.085249884225949,14.931359488953188,12.921028565111987,5.988838430914463,7.060830011053259,12.565987157538647,24.84210215191868,4.703328887677468,13.057837414652763,30.1338919422066,10.51105053743913,2.550207760235248,3.4253137854119093,12.174517138457324,3.0935945618330853,17.458044887094697,4.967988327727194,28.324798373827758,4.893103349325463,17.661411483101332,3.081852970887444,15.630137176214012,19.9054542276075,10.275076845621044,18.84829078262595,3.3425955422006544,20.821431283467483,23.014424763809757,17.693125472349568,9.391149089603866,7.460174045427276,5.006325971978002,7.169222590493311,10.522057467841883,8.961977945365437,11.34947824256158,13.300659523329905,9.899930270561383,5.5005586915826115,17.468459647842266,10.898435598334409,2.5420461908987946,1.3211403672922826,3.4518483617451103,2.7381194115382885,15.843030368977681,1.9475477720090717,3.865105673398636,13.444614448557136,12.179830129763896,24.257662206530153,12.111391556578676,3.165190897255388,23.00862943916509,11.833315012075028,19.340337011570636,16.277964311636477,8.04939254940698,22.867611642177714,25.164648842384608,16.83165566401571,16.15386761385609,3.2973094836372616,13.610548240148244,10.649955344490438,7.851615423410943,10.48435195180509,3.747239396769122,8.751285811380678,33.53429342782255,4.0996737836310135,3.8181542754190105,13.352176736935258,25.058365337375886,19.112513396018436,11.761310241795401,8.981190873268066,22.949030251070432,6.396184841011583,8.895747059640378,7.230736700922411,35.303932701383545,8.817026293361032],\"type\":\"scatter3d\"}],                        {\"template\":{\"data\":{\"histogram2dcontour\":[{\"type\":\"histogram2dcontour\",\"colorbar\":{\"outlinewidth\":0,\"ticks\":\"\"},\"colorscale\":[[0.0,\"#0d0887\"],[0.1111111111111111,\"#46039f\"],[0.2222222222222222,\"#7201a8\"],[0.3333333333333333,\"#9c179e\"],[0.4444444444444444,\"#bd3786\"],[0.5555555555555556,\"#d8576b\"],[0.6666666666666666,\"#ed7953\"],[0.7777777777777778,\"#fb9f3a\"],[0.8888888888888888,\"#fdca26\"],[1.0,\"#f0f921\"]]}],\"choropleth\":[{\"type\":\"choropleth\",\"colorbar\":{\"outlinewidth\":0,\"ticks\":\"\"}}],\"histogram2d\":[{\"type\":\"histogram2d\",\"colorbar\":{\"outlinewidth\":0,\"ticks\":\"\"},\"colorscale\":[[0.0,\"#0d0887\"],[0.1111111111111111,\"#46039f\"],[0.2222222222222222,\"#7201a8\"],[0.3333333333333333,\"#9c179e\"],[0.4444444444444444,\"#bd3786\"],[0.5555555555555556,\"#d8576b\"],[0.6666666666666666,\"#ed7953\"],[0.7777777777777778,\"#fb9f3a\"],[0.8888888888888888,\"#fdca26\"],[1.0,\"#f0f921\"]]}],\"heatmap\":[{\"type\":\"heatmap\",\"colorbar\":{\"outlinewidth\":0,\"ticks\":\"\"},\"colorscale\":[[0.0,\"#0d0887\"],[0.1111111111111111,\"#46039f\"],[0.2222222222222222,\"#7201a8\"],[0.3333333333333333,\"#9c179e\"],[0.4444444444444444,\"#bd3786\"],[0.5555555555555556,\"#d8576b\"],[0.6666666666666666,\"#ed7953\"],[0.7777777777777778,\"#fb9f3a\"],[0.8888888888888888,\"#fdca26\"],[1.0,\"#f0f921\"]]}],\"heatmapgl\":[{\"type\":\"heatmapgl\",\"colorbar\":{\"outlinewidth\":0,\"ticks\":\"\"},\"colorscale\":[[0.0,\"#0d0887\"],[0.1111111111111111,\"#46039f\"],[0.2222222222222222,\"#7201a8\"],[0.3333333333333333,\"#9c179e\"],[0.4444444444444444,\"#bd3786\"],[0.5555555555555556,\"#d8576b\"],[0.6666666666666666,\"#ed7953\"],[0.7777777777777778,\"#fb9f3a\"],[0.8888888888888888,\"#fdca26\"],[1.0,\"#f0f921\"]]}],\"contourcarpet\":[{\"type\":\"contourcarpet\",\"colorbar\":{\"outlinewidth\":0,\"ticks\":\"\"}}],\"contour\":[{\"type\":\"contour\",\"colorbar\":{\"outlinewidth\":0,\"ticks\":\"\"},\"colorscale\":[[0.0,\"#0d0887\"],[0.1111111111111111,\"#46039f\"],[0.2222222222222222,\"#7201a8\"],[0.3333333333333333,\"#9c179e\"],[0.4444444444444444,\"#bd3786\"],[0.5555555555555556,\"#d8576b\"],[0.6666666666666666,\"#ed7953\"],[0.7777777777777778,\"#fb9f3a\"],[0.8888888888888888,\"#fdca26\"],[1.0,\"#f0f921\"]]}],\"surface\":[{\"type\":\"surface\",\"colorbar\":{\"outlinewidth\":0,\"ticks\":\"\"},\"colorscale\":[[0.0,\"#0d0887\"],[0.1111111111111111,\"#46039f\"],[0.2222222222222222,\"#7201a8\"],[0.3333333333333333,\"#9c179e\"],[0.4444444444444444,\"#bd3786\"],[0.5555555555555556,\"#d8576b\"],[0.6666666666666666,\"#ed7953\"],[0.7777777777777778,\"#fb9f3a\"],[0.8888888888888888,\"#fdca26\"],[1.0,\"#f0f921\"]]}],\"mesh3d\":[{\"type\":\"mesh3d\",\"colorbar\":{\"outlinewidth\":0,\"ticks\":\"\"}}],\"scatter\":[{\"fillpattern\":{\"fillmode\":\"overlay\",\"size\":10,\"solidity\":0.2},\"type\":\"scatter\"}],\"parcoords\":[{\"type\":\"parcoords\",\"line\":{\"colorbar\":{\"outlinewidth\":0,\"ticks\":\"\"}}}],\"scatterpolargl\":[{\"type\":\"scatterpolargl\",\"marker\":{\"colorbar\":{\"outlinewidth\":0,\"ticks\":\"\"}}}],\"bar\":[{\"error_x\":{\"color\":\"#2a3f5f\"},\"error_y\":{\"color\":\"#2a3f5f\"},\"marker\":{\"line\":{\"color\":\"#E5ECF6\",\"width\":0.5},\"pattern\":{\"fillmode\":\"overlay\",\"size\":10,\"solidity\":0.2}},\"type\":\"bar\"}],\"scattergeo\":[{\"type\":\"scattergeo\",\"marker\":{\"colorbar\":{\"outlinewidth\":0,\"ticks\":\"\"}}}],\"scatterpolar\":[{\"type\":\"scatterpolar\",\"marker\":{\"colorbar\":{\"outlinewidth\":0,\"ticks\":\"\"}}}],\"histogram\":[{\"marker\":{\"pattern\":{\"fillmode\":\"overlay\",\"size\":10,\"solidity\":0.2}},\"type\":\"histogram\"}],\"scattergl\":[{\"type\":\"scattergl\",\"marker\":{\"colorbar\":{\"outlinewidth\":0,\"ticks\":\"\"}}}],\"scatter3d\":[{\"type\":\"scatter3d\",\"line\":{\"colorbar\":{\"outlinewidth\":0,\"ticks\":\"\"}},\"marker\":{\"colorbar\":{\"outlinewidth\":0,\"ticks\":\"\"}}}],\"scattermapbox\":[{\"type\":\"scattermapbox\",\"marker\":{\"colorbar\":{\"outlinewidth\":0,\"ticks\":\"\"}}}],\"scatterternary\":[{\"type\":\"scatterternary\",\"marker\":{\"colorbar\":{\"outlinewidth\":0,\"ticks\":\"\"}}}],\"scattercarpet\":[{\"type\":\"scattercarpet\",\"marker\":{\"colorbar\":{\"outlinewidth\":0,\"ticks\":\"\"}}}],\"carpet\":[{\"aaxis\":{\"endlinecolor\":\"#2a3f5f\",\"gridcolor\":\"white\",\"linecolor\":\"white\",\"minorgridcolor\":\"white\",\"startlinecolor\":\"#2a3f5f\"},\"baxis\":{\"endlinecolor\":\"#2a3f5f\",\"gridcolor\":\"white\",\"linecolor\":\"white\",\"minorgridcolor\":\"white\",\"startlinecolor\":\"#2a3f5f\"},\"type\":\"carpet\"}],\"table\":[{\"cells\":{\"fill\":{\"color\":\"#EBF0F8\"},\"line\":{\"color\":\"white\"}},\"header\":{\"fill\":{\"color\":\"#C8D4E3\"},\"line\":{\"color\":\"white\"}},\"type\":\"table\"}],\"barpolar\":[{\"marker\":{\"line\":{\"color\":\"#E5ECF6\",\"width\":0.5},\"pattern\":{\"fillmode\":\"overlay\",\"size\":10,\"solidity\":0.2}},\"type\":\"barpolar\"}],\"pie\":[{\"automargin\":true,\"type\":\"pie\"}]},\"layout\":{\"autotypenumbers\":\"strict\",\"colorway\":[\"#636efa\",\"#EF553B\",\"#00cc96\",\"#ab63fa\",\"#FFA15A\",\"#19d3f3\",\"#FF6692\",\"#B6E880\",\"#FF97FF\",\"#FECB52\"],\"font\":{\"color\":\"#2a3f5f\"},\"hovermode\":\"closest\",\"hoverlabel\":{\"align\":\"left\"},\"paper_bgcolor\":\"white\",\"plot_bgcolor\":\"#E5ECF6\",\"polar\":{\"bgcolor\":\"#E5ECF6\",\"angularaxis\":{\"gridcolor\":\"white\",\"linecolor\":\"white\",\"ticks\":\"\"},\"radialaxis\":{\"gridcolor\":\"white\",\"linecolor\":\"white\",\"ticks\":\"\"}},\"ternary\":{\"bgcolor\":\"#E5ECF6\",\"aaxis\":{\"gridcolor\":\"white\",\"linecolor\":\"white\",\"ticks\":\"\"},\"baxis\":{\"gridcolor\":\"white\",\"linecolor\":\"white\",\"ticks\":\"\"},\"caxis\":{\"gridcolor\":\"white\",\"linecolor\":\"white\",\"ticks\":\"\"}},\"coloraxis\":{\"colorbar\":{\"outlinewidth\":0,\"ticks\":\"\"}},\"colorscale\":{\"sequential\":[[0.0,\"#0d0887\"],[0.1111111111111111,\"#46039f\"],[0.2222222222222222,\"#7201a8\"],[0.3333333333333333,\"#9c179e\"],[0.4444444444444444,\"#bd3786\"],[0.5555555555555556,\"#d8576b\"],[0.6666666666666666,\"#ed7953\"],[0.7777777777777778,\"#fb9f3a\"],[0.8888888888888888,\"#fdca26\"],[1.0,\"#f0f921\"]],\"sequentialminus\":[[0.0,\"#0d0887\"],[0.1111111111111111,\"#46039f\"],[0.2222222222222222,\"#7201a8\"],[0.3333333333333333,\"#9c179e\"],[0.4444444444444444,\"#bd3786\"],[0.5555555555555556,\"#d8576b\"],[0.6666666666666666,\"#ed7953\"],[0.7777777777777778,\"#fb9f3a\"],[0.8888888888888888,\"#fdca26\"],[1.0,\"#f0f921\"]],\"diverging\":[[0,\"#8e0152\"],[0.1,\"#c51b7d\"],[0.2,\"#de77ae\"],[0.3,\"#f1b6da\"],[0.4,\"#fde0ef\"],[0.5,\"#f7f7f7\"],[0.6,\"#e6f5d0\"],[0.7,\"#b8e186\"],[0.8,\"#7fbc41\"],[0.9,\"#4d9221\"],[1,\"#276419\"]]},\"xaxis\":{\"gridcolor\":\"white\",\"linecolor\":\"white\",\"ticks\":\"\",\"title\":{\"standoff\":15},\"zerolinecolor\":\"white\",\"automargin\":true,\"zerolinewidth\":2},\"yaxis\":{\"gridcolor\":\"white\",\"linecolor\":\"white\",\"ticks\":\"\",\"title\":{\"standoff\":15},\"zerolinecolor\":\"white\",\"automargin\":true,\"zerolinewidth\":2},\"scene\":{\"xaxis\":{\"backgroundcolor\":\"#E5ECF6\",\"gridcolor\":\"white\",\"linecolor\":\"white\",\"showbackground\":true,\"ticks\":\"\",\"zerolinecolor\":\"white\",\"gridwidth\":2},\"yaxis\":{\"backgroundcolor\":\"#E5ECF6\",\"gridcolor\":\"white\",\"linecolor\":\"white\",\"showbackground\":true,\"ticks\":\"\",\"zerolinecolor\":\"white\",\"gridwidth\":2},\"zaxis\":{\"backgroundcolor\":\"#E5ECF6\",\"gridcolor\":\"white\",\"linecolor\":\"white\",\"showbackground\":true,\"ticks\":\"\",\"zerolinecolor\":\"white\",\"gridwidth\":2}},\"shapedefaults\":{\"line\":{\"color\":\"#2a3f5f\"}},\"annotationdefaults\":{\"arrowcolor\":\"#2a3f5f\",\"arrowhead\":0,\"arrowwidth\":1},\"geo\":{\"bgcolor\":\"white\",\"landcolor\":\"#E5ECF6\",\"subunitcolor\":\"white\",\"showland\":true,\"showlakes\":true,\"lakecolor\":\"white\"},\"title\":{\"x\":0.05},\"mapbox\":{\"style\":\"light\"}}},\"scene\":{\"domain\":{\"x\":[0.0,1.0],\"y\":[0.0,1.0]},\"xaxis\":{\"title\":{\"text\":\"x\"}},\"yaxis\":{\"title\":{\"text\":\"y\"}},\"zaxis\":{\"title\":{\"text\":\"z\"}}},\"legend\":{\"tracegroupgap\":0},\"margin\":{\"t\":60}},                        {\"responsive\": true}                    ).then(function(){\n",
       "                            \n",
       "var gd = document.getElementById('c7dd0c26-9ad5-4a70-a432-9229ceceadc8');\n",
       "var x = new MutationObserver(function (mutations, observer) {{\n",
       "        var display = window.getComputedStyle(gd).display;\n",
       "        if (!display || display === 'none') {{\n",
       "            console.log([gd, 'removed!']);\n",
       "            Plotly.purge(gd);\n",
       "            observer.disconnect();\n",
       "        }}\n",
       "}});\n",
       "\n",
       "// Listen for the removal of the full notebook cells\n",
       "var notebookContainer = gd.closest('#notebook-container');\n",
       "if (notebookContainer) {{\n",
       "    x.observe(notebookContainer, {childList: true});\n",
       "}}\n",
       "\n",
       "// Listen for the clearing of the current output cell\n",
       "var outputEl = gd.closest('.output');\n",
       "if (outputEl) {{\n",
       "    x.observe(outputEl, {childList: true});\n",
       "}}\n",
       "\n",
       "                        })                };                            </script>        </div>\n",
       "</body>\n",
       "</html>"
      ]
     },
     "metadata": {},
     "output_type": "display_data"
    }
   ],
   "source": [
    "import plotly.express as px\n",
    "df = px.data.iris()\n",
    "fig = px.scatter_3d(df, x=x.ravel(), y=y.ravel(), z=z.ravel())\n",
    "fig.show()"
   ]
  },
  {
   "cell_type": "code",
   "execution_count": 48,
   "metadata": {
    "execution": {
     "iopub.execute_input": "2025-06-30T13:52:38.665180Z",
     "iopub.status.busy": "2025-06-30T13:52:38.664867Z",
     "iopub.status.idle": "2025-06-30T13:52:38.674817Z",
     "shell.execute_reply": "2025-06-30T13:52:38.673741Z",
     "shell.execute_reply.started": "2025-06-30T13:52:38.665158Z"
    },
    "trusted": true
   },
   "outputs": [],
   "source": [
    "lr = LinearRegression()\n",
    "lr.fit(np.array([x,y]).reshape(100,2),z)\n",
    "\n",
    "x_input = np.linspace(x.min(), x.max(), 10)\n",
    "y_input = np.linspace(y.min(), y.max(), 10)\n",
    "xGrid, yGrid = np.meshgrid(x_input,y_input)\n",
    "\n",
    "final = np.vstack((xGrid.ravel().reshape(1,100),yGrid.ravel().reshape(1,100))).T\n",
    "\n",
    "z_final = lr.predict(final).reshape(10,10)"
   ]
  },
  {
   "cell_type": "code",
   "execution_count": 49,
   "metadata": {
    "execution": {
     "iopub.execute_input": "2025-06-30T13:52:49.335071Z",
     "iopub.status.busy": "2025-06-30T13:52:49.334698Z",
     "iopub.status.idle": "2025-06-30T13:52:49.386321Z",
     "shell.execute_reply": "2025-06-30T13:52:49.385477Z",
     "shell.execute_reply.started": "2025-06-30T13:52:49.335047Z"
    },
    "trusted": true
   },
   "outputs": [
    {
     "data": {
      "text/html": [
       "<html>\n",
       "<head><meta charset=\"utf-8\" /></head>\n",
       "<body>\n",
       "    <div>            <script src=\"https://cdnjs.cloudflare.com/ajax/libs/mathjax/2.7.5/MathJax.js?config=TeX-AMS-MML_SVG\"></script><script type=\"text/javascript\">if (window.MathJax && window.MathJax.Hub && window.MathJax.Hub.Config) {window.MathJax.Hub.Config({SVG: {font: \"STIX-Web\"}});}</script>                <script type=\"text/javascript\">window.PlotlyConfig = {MathJaxConfig: 'local'};</script>\n",
       "        <script charset=\"utf-8\" src=\"https://cdn.plot.ly/plotly-2.35.2.min.js\"></script>                <div id=\"017bc5d2-7136-4fdb-98f4-a33372e01ad1\" class=\"plotly-graph-div\" style=\"height:525px; width:100%;\"></div>            <script type=\"text/javascript\">                                    window.PLOTLYENV=window.PLOTLYENV || {};                                    if (document.getElementById(\"017bc5d2-7136-4fdb-98f4-a33372e01ad1\")) {                    Plotly.newPlot(                        \"017bc5d2-7136-4fdb-98f4-a33372e01ad1\",                        [{\"hovertemplate\":\"x=%{x}\\u003cbr\\u003ey=%{y}\\u003cbr\\u003ez=%{z}\\u003cextra\\u003e\\u003c\\u002fextra\\u003e\",\"legendgroup\":\"\",\"marker\":{\"color\":\"#636efa\",\"symbol\":\"circle\"},\"mode\":\"markers\",\"name\":\"\",\"scene\":\"scene\",\"showlegend\":false,\"x\":[2.8815584115903716,2.858743323360952,-0.6056893879700884,-0.5727401011444764,-1.2092662138783843,-1.4862601898796308,0.6734472170454877,-0.38411495918174277,3.1665382340193844,1.7813729386239556,2.6536271129485396,-1.7789093533376317,-2.305149859177957,-0.5650722280500085,-1.8785737136437541,4.094000091031703,3.848747687983443,2.408526578714092,2.856145472514182,2.8464610745213434,0.09863237608750408,-2.418857451007459,2.366941856439028,3.597361019460969,-1.1867164266439838,2.556733782372654,4.1991818757743635,1.0728072646251121,-0.7043329153471909,-0.8923873358079719,-2.5983034438188763,0.9348649618072384,1.8558783872208826,-0.15777181349592162,3.4499588367764975,-0.23247970220293812,-2.5475031396352037,0.05467399184066313,-0.9930484081566617,1.039727898724124,2.427794203567588,-1.7439711952917876,0.9055878891147673,3.9246701963711397,3.858772360210212,2.968176301455329,-2.6306059546018523,0.4228942684250776,1.3451333433089205,0.838401589901844,-0.30029765376914197,-2.3267646174677576,-2.237099071901315,3.549747389858733,-2.2123732363261492,0.2223924426670285,3.7347971697679974,2.7925137958046458,0.013357238625304024,-0.36340232300582587,-1.022876598418192,0.10028099465178464,-0.08597683185450933,-0.0399090537581297,-1.6895127262227463,-2.351820511013835,2.887178504533817,4.179557600041047,-2.5449994212955835,0.613458904889379,3.0020579399099256,1.674527532587212,3.319712833771126,3.62769932496495,1.6507384245617782,1.4974926708458876,2.562452249720364,1.588216359380148,3.515893085322607,0.6098331911282484,3.47620618735269,-2.2543948166503363,0.599061525602095,1.9335724870817073,-0.07046986414231071,1.953285769853168,4.011127883335413,-0.8954061129707478,1.4811902454499588,2.114024786678419,2.6849531182926523,4.054880801908789,1.7533571776229353,2.669636600801545,4.194755887083066,1.2034315961997084,0.48108421086413156,-2.3214519034950376,3.869714088010052,0.27666791598160057],\"y\":[3.0598878103827563,2.3082914578012845,0.8068378726887917,-2.704095013401227,3.732374530200265,0.3521788614860837,-2.7861101466303886,0.8276381979761944,3.2130956098323535,-2.6149165454387404,-0.44421074013608974,1.101832259111721,0.8436248583148855,2.56537255244704,-2.1964800588084827,2.6368277921105445,2.9415590065569663,-0.12984573654710996,1.2230523715233774,-1.8369379940031485,-2.3511034057522635,0.1557637339747342,-2.431800698071789,2.6676875667046156,0.9981207877050644,-2.2290721838404735,2.885471123354969,2.3470688501371564,-0.7200968665387206,-0.7539771817092977,-1.960107661231107,-1.0019512718076706,3.3145168912638887,-2.29465948718902,3.3063505312922645,-1.8346190597902328,2.9857977586450914,0.06169958728192437,3.499973386437488,4.071317279337888,-1.391267574468661,3.6000488616501887,0.1773603488962241,1.2513652072529506,-2.4903286711558503,-2.7153774170840936,-1.4887920475964802,2.5752477306352697,-0.6910206730944237,-2.192249219373212,3.0206972001007033,-1.6389817753185285,-2.0136657806467553,-0.9050204668332611,-1.7752008302439144,-2.002046132895005,-1.0723380883108589,0.19294007991694917,0.6044540342418916,0.08205930632013425,0.6776377073599753,-0.5024847608397516,3.683013426300813,0.6026611096328138,-0.48909229421433453,-2.2415754060654307,0.7134692915423262,0.404681715997083,2.034981029647615,1.2148217993979165,2.9272959304108754,2.9202783089172337,2.069152690293026,0.43196315315681755,1.6742831722836042,4.182339459540908,3.656339481192184,3.0776587186696522,-0.40557137871344073,-0.403780963823424,-1.1162121001925942,2.1077602409520573,-2.374562851344847,-2.120000496534157,1.6362381588592037,1.4857963641389595,3.5693315720205634,0.8718789022578379,-1.0963231281229096,-2.6942941689838196,3.392406087057352,0.15148370462869298,2.2963789663041725,-0.876168589039793,-1.2079167455705457,-1.2629369583293466,2.164166455164466,-0.34902606329977504,3.588238342183004,-2.5141060852630024],\"z\":[22.85116141626003,18.10454897199334,4.645188476226209,7.645058117422346,17.051103593616563,4.201957852064027,10.005804187470455,2.876521065518397,22.722784034565162,12.972200890605446,9.022728420683684,7.624887500532408,8.343918273681636,9.06425729985533,10.036126003349644,30.49138926546862,27.30305441445235,9.085249884225949,14.931359488953188,12.921028565111987,5.988838430914463,7.060830011053259,12.565987157538647,24.84210215191868,4.703328887677468,13.057837414652763,30.1338919422066,10.51105053743913,2.550207760235248,3.4253137854119093,12.174517138457324,3.0935945618330853,17.458044887094697,4.967988327727194,28.324798373827758,4.893103349325463,17.661411483101332,3.081852970887444,15.630137176214012,19.9054542276075,10.275076845621044,18.84829078262595,3.3425955422006544,20.821431283467483,23.014424763809757,17.693125472349568,9.391149089603866,7.460174045427276,5.006325971978002,7.169222590493311,10.522057467841883,8.961977945365437,11.34947824256158,13.300659523329905,9.899930270561383,5.5005586915826115,17.468459647842266,10.898435598334409,2.5420461908987946,1.3211403672922826,3.4518483617451103,2.7381194115382885,15.843030368977681,1.9475477720090717,3.865105673398636,13.444614448557136,12.179830129763896,24.257662206530153,12.111391556578676,3.165190897255388,23.00862943916509,11.833315012075028,19.340337011570636,16.277964311636477,8.04939254940698,22.867611642177714,25.164648842384608,16.83165566401571,16.15386761385609,3.2973094836372616,13.610548240148244,10.649955344490438,7.851615423410943,10.48435195180509,3.747239396769122,8.751285811380678,33.53429342782255,4.0996737836310135,3.8181542754190105,13.352176736935258,25.058365337375886,19.112513396018436,11.761310241795401,8.981190873268066,22.949030251070432,6.396184841011583,8.895747059640378,7.230736700922411,35.303932701383545,8.817026293361032],\"type\":\"scatter3d\"},{\"x\":[-2.6306059546018523,-1.8717406401156063,-1.11287532562936,-0.3540100111431137,0.40485530334313236,1.1637206178293784,1.922585932315625,2.681451246801871,3.440316561288117,4.1991818757743635],\"y\":[-2.7861101466303886,-2.011837968166911,-1.2375657897034338,-0.4632936112399566,0.310978567223521,1.0852507456869986,1.8595229241504754,2.633795102613953,3.4080672810774306,4.182339459540908],\"z\":[[14.792658970429024,14.333738292293196,13.874817614157369,13.41589693602154,12.956976257885712,12.498055579749883,12.039134901614055,11.580214223478228,11.121293545342398,10.662372867206571],[14.734364823494012,14.275444145358184,13.816523467222355,13.357602789086528,12.898682110950698,12.439761432814871,11.980840754679042,11.521920076543214,11.062999398407387,10.604078720271557],[14.676070676559,14.21714999842317,13.758229320287343,13.299308642151514,12.840387964015687,12.38146728587986,11.92254660774403,11.463625929608202,11.004705251472373,10.545784573336546],[14.617776529623987,14.158855851488159,13.69993517335233,13.241014495216502,12.782093817080675,12.323173138944846,11.864252460809018,11.405331782673189,10.946411104537361,10.487490426401532],[14.559482382688975,14.100561704553146,13.641641026417318,13.182720348281489,12.723799670145661,12.264878992009834,11.805958313874005,11.347037635738177,10.88811695760235,10.42919627946652],[14.501188235753961,14.042267557618134,13.583346879482304,13.124426201346477,12.66550552321065,12.20658484507482,11.747664166938993,11.288743488803163,10.829822810667336,10.370902132531508],[14.44289408881895,13.983973410683122,13.525052732547293,13.066132054411465,12.607211376275636,12.148290698139808,11.68937002000398,11.230449341868152,10.771528663732324,10.312607985596495],[14.384599941883936,13.925679263748108,13.466758585612281,13.007837907476452,12.548917229340624,12.089996551204795,11.631075873068967,11.17215519493314,10.71323451679731,10.254313838661483],[14.326305794948924,13.867385116813097,13.408464438677267,12.94954376054144,12.49062308240561,12.031702404269783,11.572781726133954,11.113861047998126,10.654940369862299,10.19601969172647],[14.26801164801391,13.809090969878083,13.350170291742256,12.891249613606426,12.432328935470599,11.973408257334771,11.514487579198942,11.055566901063115,10.596646222927285,10.137725544791458]],\"type\":\"surface\"}],                        {\"template\":{\"data\":{\"histogram2dcontour\":[{\"type\":\"histogram2dcontour\",\"colorbar\":{\"outlinewidth\":0,\"ticks\":\"\"},\"colorscale\":[[0.0,\"#0d0887\"],[0.1111111111111111,\"#46039f\"],[0.2222222222222222,\"#7201a8\"],[0.3333333333333333,\"#9c179e\"],[0.4444444444444444,\"#bd3786\"],[0.5555555555555556,\"#d8576b\"],[0.6666666666666666,\"#ed7953\"],[0.7777777777777778,\"#fb9f3a\"],[0.8888888888888888,\"#fdca26\"],[1.0,\"#f0f921\"]]}],\"choropleth\":[{\"type\":\"choropleth\",\"colorbar\":{\"outlinewidth\":0,\"ticks\":\"\"}}],\"histogram2d\":[{\"type\":\"histogram2d\",\"colorbar\":{\"outlinewidth\":0,\"ticks\":\"\"},\"colorscale\":[[0.0,\"#0d0887\"],[0.1111111111111111,\"#46039f\"],[0.2222222222222222,\"#7201a8\"],[0.3333333333333333,\"#9c179e\"],[0.4444444444444444,\"#bd3786\"],[0.5555555555555556,\"#d8576b\"],[0.6666666666666666,\"#ed7953\"],[0.7777777777777778,\"#fb9f3a\"],[0.8888888888888888,\"#fdca26\"],[1.0,\"#f0f921\"]]}],\"heatmap\":[{\"type\":\"heatmap\",\"colorbar\":{\"outlinewidth\":0,\"ticks\":\"\"},\"colorscale\":[[0.0,\"#0d0887\"],[0.1111111111111111,\"#46039f\"],[0.2222222222222222,\"#7201a8\"],[0.3333333333333333,\"#9c179e\"],[0.4444444444444444,\"#bd3786\"],[0.5555555555555556,\"#d8576b\"],[0.6666666666666666,\"#ed7953\"],[0.7777777777777778,\"#fb9f3a\"],[0.8888888888888888,\"#fdca26\"],[1.0,\"#f0f921\"]]}],\"heatmapgl\":[{\"type\":\"heatmapgl\",\"colorbar\":{\"outlinewidth\":0,\"ticks\":\"\"},\"colorscale\":[[0.0,\"#0d0887\"],[0.1111111111111111,\"#46039f\"],[0.2222222222222222,\"#7201a8\"],[0.3333333333333333,\"#9c179e\"],[0.4444444444444444,\"#bd3786\"],[0.5555555555555556,\"#d8576b\"],[0.6666666666666666,\"#ed7953\"],[0.7777777777777778,\"#fb9f3a\"],[0.8888888888888888,\"#fdca26\"],[1.0,\"#f0f921\"]]}],\"contourcarpet\":[{\"type\":\"contourcarpet\",\"colorbar\":{\"outlinewidth\":0,\"ticks\":\"\"}}],\"contour\":[{\"type\":\"contour\",\"colorbar\":{\"outlinewidth\":0,\"ticks\":\"\"},\"colorscale\":[[0.0,\"#0d0887\"],[0.1111111111111111,\"#46039f\"],[0.2222222222222222,\"#7201a8\"],[0.3333333333333333,\"#9c179e\"],[0.4444444444444444,\"#bd3786\"],[0.5555555555555556,\"#d8576b\"],[0.6666666666666666,\"#ed7953\"],[0.7777777777777778,\"#fb9f3a\"],[0.8888888888888888,\"#fdca26\"],[1.0,\"#f0f921\"]]}],\"surface\":[{\"type\":\"surface\",\"colorbar\":{\"outlinewidth\":0,\"ticks\":\"\"},\"colorscale\":[[0.0,\"#0d0887\"],[0.1111111111111111,\"#46039f\"],[0.2222222222222222,\"#7201a8\"],[0.3333333333333333,\"#9c179e\"],[0.4444444444444444,\"#bd3786\"],[0.5555555555555556,\"#d8576b\"],[0.6666666666666666,\"#ed7953\"],[0.7777777777777778,\"#fb9f3a\"],[0.8888888888888888,\"#fdca26\"],[1.0,\"#f0f921\"]]}],\"mesh3d\":[{\"type\":\"mesh3d\",\"colorbar\":{\"outlinewidth\":0,\"ticks\":\"\"}}],\"scatter\":[{\"fillpattern\":{\"fillmode\":\"overlay\",\"size\":10,\"solidity\":0.2},\"type\":\"scatter\"}],\"parcoords\":[{\"type\":\"parcoords\",\"line\":{\"colorbar\":{\"outlinewidth\":0,\"ticks\":\"\"}}}],\"scatterpolargl\":[{\"type\":\"scatterpolargl\",\"marker\":{\"colorbar\":{\"outlinewidth\":0,\"ticks\":\"\"}}}],\"bar\":[{\"error_x\":{\"color\":\"#2a3f5f\"},\"error_y\":{\"color\":\"#2a3f5f\"},\"marker\":{\"line\":{\"color\":\"#E5ECF6\",\"width\":0.5},\"pattern\":{\"fillmode\":\"overlay\",\"size\":10,\"solidity\":0.2}},\"type\":\"bar\"}],\"scattergeo\":[{\"type\":\"scattergeo\",\"marker\":{\"colorbar\":{\"outlinewidth\":0,\"ticks\":\"\"}}}],\"scatterpolar\":[{\"type\":\"scatterpolar\",\"marker\":{\"colorbar\":{\"outlinewidth\":0,\"ticks\":\"\"}}}],\"histogram\":[{\"marker\":{\"pattern\":{\"fillmode\":\"overlay\",\"size\":10,\"solidity\":0.2}},\"type\":\"histogram\"}],\"scattergl\":[{\"type\":\"scattergl\",\"marker\":{\"colorbar\":{\"outlinewidth\":0,\"ticks\":\"\"}}}],\"scatter3d\":[{\"type\":\"scatter3d\",\"line\":{\"colorbar\":{\"outlinewidth\":0,\"ticks\":\"\"}},\"marker\":{\"colorbar\":{\"outlinewidth\":0,\"ticks\":\"\"}}}],\"scattermapbox\":[{\"type\":\"scattermapbox\",\"marker\":{\"colorbar\":{\"outlinewidth\":0,\"ticks\":\"\"}}}],\"scatterternary\":[{\"type\":\"scatterternary\",\"marker\":{\"colorbar\":{\"outlinewidth\":0,\"ticks\":\"\"}}}],\"scattercarpet\":[{\"type\":\"scattercarpet\",\"marker\":{\"colorbar\":{\"outlinewidth\":0,\"ticks\":\"\"}}}],\"carpet\":[{\"aaxis\":{\"endlinecolor\":\"#2a3f5f\",\"gridcolor\":\"white\",\"linecolor\":\"white\",\"minorgridcolor\":\"white\",\"startlinecolor\":\"#2a3f5f\"},\"baxis\":{\"endlinecolor\":\"#2a3f5f\",\"gridcolor\":\"white\",\"linecolor\":\"white\",\"minorgridcolor\":\"white\",\"startlinecolor\":\"#2a3f5f\"},\"type\":\"carpet\"}],\"table\":[{\"cells\":{\"fill\":{\"color\":\"#EBF0F8\"},\"line\":{\"color\":\"white\"}},\"header\":{\"fill\":{\"color\":\"#C8D4E3\"},\"line\":{\"color\":\"white\"}},\"type\":\"table\"}],\"barpolar\":[{\"marker\":{\"line\":{\"color\":\"#E5ECF6\",\"width\":0.5},\"pattern\":{\"fillmode\":\"overlay\",\"size\":10,\"solidity\":0.2}},\"type\":\"barpolar\"}],\"pie\":[{\"automargin\":true,\"type\":\"pie\"}]},\"layout\":{\"autotypenumbers\":\"strict\",\"colorway\":[\"#636efa\",\"#EF553B\",\"#00cc96\",\"#ab63fa\",\"#FFA15A\",\"#19d3f3\",\"#FF6692\",\"#B6E880\",\"#FF97FF\",\"#FECB52\"],\"font\":{\"color\":\"#2a3f5f\"},\"hovermode\":\"closest\",\"hoverlabel\":{\"align\":\"left\"},\"paper_bgcolor\":\"white\",\"plot_bgcolor\":\"#E5ECF6\",\"polar\":{\"bgcolor\":\"#E5ECF6\",\"angularaxis\":{\"gridcolor\":\"white\",\"linecolor\":\"white\",\"ticks\":\"\"},\"radialaxis\":{\"gridcolor\":\"white\",\"linecolor\":\"white\",\"ticks\":\"\"}},\"ternary\":{\"bgcolor\":\"#E5ECF6\",\"aaxis\":{\"gridcolor\":\"white\",\"linecolor\":\"white\",\"ticks\":\"\"},\"baxis\":{\"gridcolor\":\"white\",\"linecolor\":\"white\",\"ticks\":\"\"},\"caxis\":{\"gridcolor\":\"white\",\"linecolor\":\"white\",\"ticks\":\"\"}},\"coloraxis\":{\"colorbar\":{\"outlinewidth\":0,\"ticks\":\"\"}},\"colorscale\":{\"sequential\":[[0.0,\"#0d0887\"],[0.1111111111111111,\"#46039f\"],[0.2222222222222222,\"#7201a8\"],[0.3333333333333333,\"#9c179e\"],[0.4444444444444444,\"#bd3786\"],[0.5555555555555556,\"#d8576b\"],[0.6666666666666666,\"#ed7953\"],[0.7777777777777778,\"#fb9f3a\"],[0.8888888888888888,\"#fdca26\"],[1.0,\"#f0f921\"]],\"sequentialminus\":[[0.0,\"#0d0887\"],[0.1111111111111111,\"#46039f\"],[0.2222222222222222,\"#7201a8\"],[0.3333333333333333,\"#9c179e\"],[0.4444444444444444,\"#bd3786\"],[0.5555555555555556,\"#d8576b\"],[0.6666666666666666,\"#ed7953\"],[0.7777777777777778,\"#fb9f3a\"],[0.8888888888888888,\"#fdca26\"],[1.0,\"#f0f921\"]],\"diverging\":[[0,\"#8e0152\"],[0.1,\"#c51b7d\"],[0.2,\"#de77ae\"],[0.3,\"#f1b6da\"],[0.4,\"#fde0ef\"],[0.5,\"#f7f7f7\"],[0.6,\"#e6f5d0\"],[0.7,\"#b8e186\"],[0.8,\"#7fbc41\"],[0.9,\"#4d9221\"],[1,\"#276419\"]]},\"xaxis\":{\"gridcolor\":\"white\",\"linecolor\":\"white\",\"ticks\":\"\",\"title\":{\"standoff\":15},\"zerolinecolor\":\"white\",\"automargin\":true,\"zerolinewidth\":2},\"yaxis\":{\"gridcolor\":\"white\",\"linecolor\":\"white\",\"ticks\":\"\",\"title\":{\"standoff\":15},\"zerolinecolor\":\"white\",\"automargin\":true,\"zerolinewidth\":2},\"scene\":{\"xaxis\":{\"backgroundcolor\":\"#E5ECF6\",\"gridcolor\":\"white\",\"linecolor\":\"white\",\"showbackground\":true,\"ticks\":\"\",\"zerolinecolor\":\"white\",\"gridwidth\":2},\"yaxis\":{\"backgroundcolor\":\"#E5ECF6\",\"gridcolor\":\"white\",\"linecolor\":\"white\",\"showbackground\":true,\"ticks\":\"\",\"zerolinecolor\":\"white\",\"gridwidth\":2},\"zaxis\":{\"backgroundcolor\":\"#E5ECF6\",\"gridcolor\":\"white\",\"linecolor\":\"white\",\"showbackground\":true,\"ticks\":\"\",\"zerolinecolor\":\"white\",\"gridwidth\":2}},\"shapedefaults\":{\"line\":{\"color\":\"#2a3f5f\"}},\"annotationdefaults\":{\"arrowcolor\":\"#2a3f5f\",\"arrowhead\":0,\"arrowwidth\":1},\"geo\":{\"bgcolor\":\"white\",\"landcolor\":\"#E5ECF6\",\"subunitcolor\":\"white\",\"showland\":true,\"showlakes\":true,\"lakecolor\":\"white\"},\"title\":{\"x\":0.05},\"mapbox\":{\"style\":\"light\"}}},\"scene\":{\"domain\":{\"x\":[0.0,1.0],\"y\":[0.0,1.0]},\"xaxis\":{\"title\":{\"text\":\"x\"}},\"yaxis\":{\"title\":{\"text\":\"y\"}},\"zaxis\":{\"title\":{\"text\":\"z\"}}},\"legend\":{\"tracegroupgap\":0},\"margin\":{\"t\":60}},                        {\"responsive\": true}                    ).then(function(){\n",
       "                            \n",
       "var gd = document.getElementById('017bc5d2-7136-4fdb-98f4-a33372e01ad1');\n",
       "var x = new MutationObserver(function (mutations, observer) {{\n",
       "        var display = window.getComputedStyle(gd).display;\n",
       "        if (!display || display === 'none') {{\n",
       "            console.log([gd, 'removed!']);\n",
       "            Plotly.purge(gd);\n",
       "            observer.disconnect();\n",
       "        }}\n",
       "}});\n",
       "\n",
       "// Listen for the removal of the full notebook cells\n",
       "var notebookContainer = gd.closest('#notebook-container');\n",
       "if (notebookContainer) {{\n",
       "    x.observe(notebookContainer, {childList: true});\n",
       "}}\n",
       "\n",
       "// Listen for the clearing of the current output cell\n",
       "var outputEl = gd.closest('.output');\n",
       "if (outputEl) {{\n",
       "    x.observe(outputEl, {childList: true});\n",
       "}}\n",
       "\n",
       "                        })                };                            </script>        </div>\n",
       "</body>\n",
       "</html>"
      ]
     },
     "metadata": {},
     "output_type": "display_data"
    }
   ],
   "source": [
    "import plotly.graph_objects as go\n",
    "\n",
    "fig = px.scatter_3d(df, x=x.ravel(), y=y.ravel(), z=z.ravel())\n",
    "\n",
    "fig.add_trace(go.Surface(x = x_input, y = y_input, z =z_final ))\n",
    "\n",
    "fig.show()"
   ]
  },
  {
   "cell_type": "code",
   "execution_count": 50,
   "metadata": {
    "execution": {
     "iopub.execute_input": "2025-06-30T13:53:08.325339Z",
     "iopub.status.busy": "2025-06-30T13:53:08.325057Z",
     "iopub.status.idle": "2025-06-30T13:53:08.331989Z",
     "shell.execute_reply": "2025-06-30T13:53:08.331178Z",
     "shell.execute_reply.started": "2025-06-30T13:53:08.325319Z"
    },
    "trusted": true
   },
   "outputs": [
    {
     "data": {
      "text/plain": [
       "(100, 2)"
      ]
     },
     "execution_count": 50,
     "metadata": {},
     "output_type": "execute_result"
    }
   ],
   "source": [
    "X_multi = np.array([x,y]).reshape(100,2)\n",
    "X_multi.shape"
   ]
  },
  {
   "cell_type": "code",
   "execution_count": 58,
   "metadata": {
    "execution": {
     "iopub.execute_input": "2025-06-30T13:55:42.190258Z",
     "iopub.status.busy": "2025-06-30T13:55:42.189921Z",
     "iopub.status.idle": "2025-06-30T13:55:42.196046Z",
     "shell.execute_reply": "2025-06-30T13:55:42.195144Z",
     "shell.execute_reply.started": "2025-06-30T13:55:42.190228Z"
    },
    "trusted": true
   },
   "outputs": [],
   "source": [
    "poly = PolynomialFeatures(degree=5)\n",
    "X_multi_trans = poly.fit_transform(X_multi)"
   ]
  },
  {
   "cell_type": "code",
   "execution_count": 59,
   "metadata": {
    "execution": {
     "iopub.execute_input": "2025-06-30T13:55:44.405646Z",
     "iopub.status.busy": "2025-06-30T13:55:44.405340Z",
     "iopub.status.idle": "2025-06-30T13:55:44.414552Z",
     "shell.execute_reply": "2025-06-30T13:55:44.413656Z",
     "shell.execute_reply.started": "2025-06-30T13:55:44.405625Z"
    },
    "trusted": true
   },
   "outputs": [
    {
     "data": {
      "text/html": [
       "<style>#sk-container-id-5 {color: black;background-color: white;}#sk-container-id-5 pre{padding: 0;}#sk-container-id-5 div.sk-toggleable {background-color: white;}#sk-container-id-5 label.sk-toggleable__label {cursor: pointer;display: block;width: 100%;margin-bottom: 0;padding: 0.3em;box-sizing: border-box;text-align: center;}#sk-container-id-5 label.sk-toggleable__label-arrow:before {content: \"▸\";float: left;margin-right: 0.25em;color: #696969;}#sk-container-id-5 label.sk-toggleable__label-arrow:hover:before {color: black;}#sk-container-id-5 div.sk-estimator:hover label.sk-toggleable__label-arrow:before {color: black;}#sk-container-id-5 div.sk-toggleable__content {max-height: 0;max-width: 0;overflow: hidden;text-align: left;background-color: #f0f8ff;}#sk-container-id-5 div.sk-toggleable__content pre {margin: 0.2em;color: black;border-radius: 0.25em;background-color: #f0f8ff;}#sk-container-id-5 input.sk-toggleable__control:checked~div.sk-toggleable__content {max-height: 200px;max-width: 100%;overflow: auto;}#sk-container-id-5 input.sk-toggleable__control:checked~label.sk-toggleable__label-arrow:before {content: \"▾\";}#sk-container-id-5 div.sk-estimator input.sk-toggleable__control:checked~label.sk-toggleable__label {background-color: #d4ebff;}#sk-container-id-5 div.sk-label input.sk-toggleable__control:checked~label.sk-toggleable__label {background-color: #d4ebff;}#sk-container-id-5 input.sk-hidden--visually {border: 0;clip: rect(1px 1px 1px 1px);clip: rect(1px, 1px, 1px, 1px);height: 1px;margin: -1px;overflow: hidden;padding: 0;position: absolute;width: 1px;}#sk-container-id-5 div.sk-estimator {font-family: monospace;background-color: #f0f8ff;border: 1px dotted black;border-radius: 0.25em;box-sizing: border-box;margin-bottom: 0.5em;}#sk-container-id-5 div.sk-estimator:hover {background-color: #d4ebff;}#sk-container-id-5 div.sk-parallel-item::after {content: \"\";width: 100%;border-bottom: 1px solid gray;flex-grow: 1;}#sk-container-id-5 div.sk-label:hover label.sk-toggleable__label {background-color: #d4ebff;}#sk-container-id-5 div.sk-serial::before {content: \"\";position: absolute;border-left: 1px solid gray;box-sizing: border-box;top: 0;bottom: 0;left: 50%;z-index: 0;}#sk-container-id-5 div.sk-serial {display: flex;flex-direction: column;align-items: center;background-color: white;padding-right: 0.2em;padding-left: 0.2em;position: relative;}#sk-container-id-5 div.sk-item {position: relative;z-index: 1;}#sk-container-id-5 div.sk-parallel {display: flex;align-items: stretch;justify-content: center;background-color: white;position: relative;}#sk-container-id-5 div.sk-item::before, #sk-container-id-5 div.sk-parallel-item::before {content: \"\";position: absolute;border-left: 1px solid gray;box-sizing: border-box;top: 0;bottom: 0;left: 50%;z-index: -1;}#sk-container-id-5 div.sk-parallel-item {display: flex;flex-direction: column;z-index: 1;position: relative;background-color: white;}#sk-container-id-5 div.sk-parallel-item:first-child::after {align-self: flex-end;width: 50%;}#sk-container-id-5 div.sk-parallel-item:last-child::after {align-self: flex-start;width: 50%;}#sk-container-id-5 div.sk-parallel-item:only-child::after {width: 0;}#sk-container-id-5 div.sk-dashed-wrapped {border: 1px dashed gray;margin: 0 0.4em 0.5em 0.4em;box-sizing: border-box;padding-bottom: 0.4em;background-color: white;}#sk-container-id-5 div.sk-label label {font-family: monospace;font-weight: bold;display: inline-block;line-height: 1.2em;}#sk-container-id-5 div.sk-label-container {text-align: center;}#sk-container-id-5 div.sk-container {/* jupyter's `normalize.less` sets `[hidden] { display: none; }` but bootstrap.min.css set `[hidden] { display: none !important; }` so we also need the `!important` here to be able to override the default hidden behavior on the sphinx rendered scikit-learn.org. See: https://github.com/scikit-learn/scikit-learn/issues/21755 */display: inline-block !important;position: relative;}#sk-container-id-5 div.sk-text-repr-fallback {display: none;}</style><div id=\"sk-container-id-5\" class=\"sk-top-container\"><div class=\"sk-text-repr-fallback\"><pre>LinearRegression()</pre><b>In a Jupyter environment, please rerun this cell to show the HTML representation or trust the notebook. <br />On GitHub, the HTML representation is unable to render, please try loading this page with nbviewer.org.</b></div><div class=\"sk-container\" hidden><div class=\"sk-item\"><div class=\"sk-estimator sk-toggleable\"><input class=\"sk-toggleable__control sk-hidden--visually\" id=\"sk-estimator-id-5\" type=\"checkbox\" checked><label for=\"sk-estimator-id-5\" class=\"sk-toggleable__label sk-toggleable__label-arrow\">LinearRegression</label><div class=\"sk-toggleable__content\"><pre>LinearRegression()</pre></div></div></div></div></div>"
      ],
      "text/plain": [
       "LinearRegression()"
      ]
     },
     "execution_count": 59,
     "metadata": {},
     "output_type": "execute_result"
    }
   ],
   "source": [
    "lr = LinearRegression()\n",
    "lr.fit(X_multi_trans,z)"
   ]
  },
  {
   "cell_type": "code",
   "execution_count": 60,
   "metadata": {
    "execution": {
     "iopub.execute_input": "2025-06-30T13:55:46.579723Z",
     "iopub.status.busy": "2025-06-30T13:55:46.579435Z",
     "iopub.status.idle": "2025-06-30T13:55:46.584507Z",
     "shell.execute_reply": "2025-06-30T13:55:46.583576Z",
     "shell.execute_reply.started": "2025-06-30T13:55:46.579703Z"
    },
    "trusted": true
   },
   "outputs": [],
   "source": [
    "X_test_multi = poly.transform(final)"
   ]
  },
  {
   "cell_type": "code",
   "execution_count": 61,
   "metadata": {
    "execution": {
     "iopub.execute_input": "2025-06-30T13:55:48.879804Z",
     "iopub.status.busy": "2025-06-30T13:55:48.879464Z",
     "iopub.status.idle": "2025-06-30T13:55:48.884394Z",
     "shell.execute_reply": "2025-06-30T13:55:48.883649Z",
     "shell.execute_reply.started": "2025-06-30T13:55:48.879746Z"
    },
    "trusted": true
   },
   "outputs": [],
   "source": [
    "z_final = lr.predict(X_multi_trans).reshape(10,10)"
   ]
  },
  {
   "cell_type": "code",
   "execution_count": 62,
   "metadata": {
    "execution": {
     "iopub.execute_input": "2025-06-30T13:55:50.989732Z",
     "iopub.status.busy": "2025-06-30T13:55:50.989442Z",
     "iopub.status.idle": "2025-06-30T13:55:51.037002Z",
     "shell.execute_reply": "2025-06-30T13:55:51.036207Z",
     "shell.execute_reply.started": "2025-06-30T13:55:50.989714Z"
    },
    "trusted": true
   },
   "outputs": [
    {
     "data": {
      "text/html": [
       "<html>\n",
       "<head><meta charset=\"utf-8\" /></head>\n",
       "<body>\n",
       "    <div>            <script src=\"https://cdnjs.cloudflare.com/ajax/libs/mathjax/2.7.5/MathJax.js?config=TeX-AMS-MML_SVG\"></script><script type=\"text/javascript\">if (window.MathJax && window.MathJax.Hub && window.MathJax.Hub.Config) {window.MathJax.Hub.Config({SVG: {font: \"STIX-Web\"}});}</script>                <script type=\"text/javascript\">window.PlotlyConfig = {MathJaxConfig: 'local'};</script>\n",
       "        <script charset=\"utf-8\" src=\"https://cdn.plot.ly/plotly-2.35.2.min.js\"></script>                <div id=\"2b8d163c-b1f4-4ca8-9ed7-934688dced66\" class=\"plotly-graph-div\" style=\"height:525px; width:100%;\"></div>            <script type=\"text/javascript\">                                    window.PLOTLYENV=window.PLOTLYENV || {};                                    if (document.getElementById(\"2b8d163c-b1f4-4ca8-9ed7-934688dced66\")) {                    Plotly.newPlot(                        \"2b8d163c-b1f4-4ca8-9ed7-934688dced66\",                        [{\"hovertemplate\":\"x=%{x}\\u003cbr\\u003ey=%{y}\\u003cbr\\u003ez=%{z}\\u003cextra\\u003e\\u003c\\u002fextra\\u003e\",\"legendgroup\":\"\",\"marker\":{\"color\":\"#636efa\",\"symbol\":\"circle\"},\"mode\":\"markers\",\"name\":\"\",\"scene\":\"scene\",\"showlegend\":false,\"x\":[2.8815584115903716,2.858743323360952,-0.6056893879700884,-0.5727401011444764,-1.2092662138783843,-1.4862601898796308,0.6734472170454877,-0.38411495918174277,3.1665382340193844,1.7813729386239556,2.6536271129485396,-1.7789093533376317,-2.305149859177957,-0.5650722280500085,-1.8785737136437541,4.094000091031703,3.848747687983443,2.408526578714092,2.856145472514182,2.8464610745213434,0.09863237608750408,-2.418857451007459,2.366941856439028,3.597361019460969,-1.1867164266439838,2.556733782372654,4.1991818757743635,1.0728072646251121,-0.7043329153471909,-0.8923873358079719,-2.5983034438188763,0.9348649618072384,1.8558783872208826,-0.15777181349592162,3.4499588367764975,-0.23247970220293812,-2.5475031396352037,0.05467399184066313,-0.9930484081566617,1.039727898724124,2.427794203567588,-1.7439711952917876,0.9055878891147673,3.9246701963711397,3.858772360210212,2.968176301455329,-2.6306059546018523,0.4228942684250776,1.3451333433089205,0.838401589901844,-0.30029765376914197,-2.3267646174677576,-2.237099071901315,3.549747389858733,-2.2123732363261492,0.2223924426670285,3.7347971697679974,2.7925137958046458,0.013357238625304024,-0.36340232300582587,-1.022876598418192,0.10028099465178464,-0.08597683185450933,-0.0399090537581297,-1.6895127262227463,-2.351820511013835,2.887178504533817,4.179557600041047,-2.5449994212955835,0.613458904889379,3.0020579399099256,1.674527532587212,3.319712833771126,3.62769932496495,1.6507384245617782,1.4974926708458876,2.562452249720364,1.588216359380148,3.515893085322607,0.6098331911282484,3.47620618735269,-2.2543948166503363,0.599061525602095,1.9335724870817073,-0.07046986414231071,1.953285769853168,4.011127883335413,-0.8954061129707478,1.4811902454499588,2.114024786678419,2.6849531182926523,4.054880801908789,1.7533571776229353,2.669636600801545,4.194755887083066,1.2034315961997084,0.48108421086413156,-2.3214519034950376,3.869714088010052,0.27666791598160057],\"y\":[3.0598878103827563,2.3082914578012845,0.8068378726887917,-2.704095013401227,3.732374530200265,0.3521788614860837,-2.7861101466303886,0.8276381979761944,3.2130956098323535,-2.6149165454387404,-0.44421074013608974,1.101832259111721,0.8436248583148855,2.56537255244704,-2.1964800588084827,2.6368277921105445,2.9415590065569663,-0.12984573654710996,1.2230523715233774,-1.8369379940031485,-2.3511034057522635,0.1557637339747342,-2.431800698071789,2.6676875667046156,0.9981207877050644,-2.2290721838404735,2.885471123354969,2.3470688501371564,-0.7200968665387206,-0.7539771817092977,-1.960107661231107,-1.0019512718076706,3.3145168912638887,-2.29465948718902,3.3063505312922645,-1.8346190597902328,2.9857977586450914,0.06169958728192437,3.499973386437488,4.071317279337888,-1.391267574468661,3.6000488616501887,0.1773603488962241,1.2513652072529506,-2.4903286711558503,-2.7153774170840936,-1.4887920475964802,2.5752477306352697,-0.6910206730944237,-2.192249219373212,3.0206972001007033,-1.6389817753185285,-2.0136657806467553,-0.9050204668332611,-1.7752008302439144,-2.002046132895005,-1.0723380883108589,0.19294007991694917,0.6044540342418916,0.08205930632013425,0.6776377073599753,-0.5024847608397516,3.683013426300813,0.6026611096328138,-0.48909229421433453,-2.2415754060654307,0.7134692915423262,0.404681715997083,2.034981029647615,1.2148217993979165,2.9272959304108754,2.9202783089172337,2.069152690293026,0.43196315315681755,1.6742831722836042,4.182339459540908,3.656339481192184,3.0776587186696522,-0.40557137871344073,-0.403780963823424,-1.1162121001925942,2.1077602409520573,-2.374562851344847,-2.120000496534157,1.6362381588592037,1.4857963641389595,3.5693315720205634,0.8718789022578379,-1.0963231281229096,-2.6942941689838196,3.392406087057352,0.15148370462869298,2.2963789663041725,-0.876168589039793,-1.2079167455705457,-1.2629369583293466,2.164166455164466,-0.34902606329977504,3.588238342183004,-2.5141060852630024],\"z\":[22.85116141626003,18.10454897199334,4.645188476226209,7.645058117422346,17.051103593616563,4.201957852064027,10.005804187470455,2.876521065518397,22.722784034565162,12.972200890605446,9.022728420683684,7.624887500532408,8.343918273681636,9.06425729985533,10.036126003349644,30.49138926546862,27.30305441445235,9.085249884225949,14.931359488953188,12.921028565111987,5.988838430914463,7.060830011053259,12.565987157538647,24.84210215191868,4.703328887677468,13.057837414652763,30.1338919422066,10.51105053743913,2.550207760235248,3.4253137854119093,12.174517138457324,3.0935945618330853,17.458044887094697,4.967988327727194,28.324798373827758,4.893103349325463,17.661411483101332,3.081852970887444,15.630137176214012,19.9054542276075,10.275076845621044,18.84829078262595,3.3425955422006544,20.821431283467483,23.014424763809757,17.693125472349568,9.391149089603866,7.460174045427276,5.006325971978002,7.169222590493311,10.522057467841883,8.961977945365437,11.34947824256158,13.300659523329905,9.899930270561383,5.5005586915826115,17.468459647842266,10.898435598334409,2.5420461908987946,1.3211403672922826,3.4518483617451103,2.7381194115382885,15.843030368977681,1.9475477720090717,3.865105673398636,13.444614448557136,12.179830129763896,24.257662206530153,12.111391556578676,3.165190897255388,23.00862943916509,11.833315012075028,19.340337011570636,16.277964311636477,8.04939254940698,22.867611642177714,25.164648842384608,16.83165566401571,16.15386761385609,3.2973094836372616,13.610548240148244,10.649955344490438,7.851615423410943,10.48435195180509,3.747239396769122,8.751285811380678,33.53429342782255,4.0996737836310135,3.8181542754190105,13.352176736935258,25.058365337375886,19.112513396018436,11.761310241795401,8.981190873268066,22.949030251070432,6.396184841011583,8.895747059640378,7.230736700922411,35.303932701383545,8.817026293361032],\"type\":\"scatter3d\"},{\"x\":[-2.6306059546018523,-1.8717406401156063,-1.11287532562936,-0.3540100111431137,0.40485530334313236,1.1637206178293784,1.922585932315625,2.681451246801871,3.440316561288117,4.1991818757743635],\"y\":[-2.7861101466303886,-2.011837968166911,-1.2375657897034338,-0.4632936112399566,0.310978567223521,1.0852507456869986,1.8595229241504754,2.633795102613953,3.4080672810774306,4.182339459540908],\"z\":[[12.809618540518247,8.539421762093621,10.072205250651942,10.621840285043533,9.376869596895933,12.274051716303017,16.546052223584653,11.193706323702582,8.669645368034342,12.872486088148587],[9.086508447098943,13.033919302887629,15.217161990092222,8.05643131079367,8.347248428432689,18.16908596573199,15.589517236770092,14.856420469559968,17.960186186676776,11.161026475453864],[12.121471128892232,10.475691826828058,11.927665197934427,18.091266926128142,12.946473175671112,9.616716548412453,14.168655621790254,18.222718804955626,10.653605961564022,8.549211053354664],[10.86525966968599,8.65227154889918,17.572252879172446,4.661529892116828,18.540076854448237,10.239216313624228,11.863651130930588,13.17984775732728,12.24254829403296,10.57354996181136],[12.486079927307987,10.98720767384815,10.131754605984966,19.640773355700503,13.427618608429551,7.195796889304312,14.716784027903989,7.567657908898877,7.738403836738912,11.899642012682087],[10.69589351396949,9.857945679575408,11.449077248882185,16.789080984660778,8.660292212418792,9.12779752791634,13.172769964900265,17.545525049299396,15.47611736346666,8.776406386682025],[18.39651617240016,16.0104098782208,7.573123165442222,11.58028667027624,8.602099480139469,14.435331105885224,11.076863590837457,13.758848954529375,14.788412741690255,8.41415342402359],[16.67211438961895,9.165409339467072,22.708949339934204,16.611457136074876,10.191180465531033,13.817147843345836,14.884920201887041,14.40696221894649,11.200959146247687,10.531369719648271],[10.502508167576806,10.113241963959325,9.656194951275221,10.867708366644141,13.628198058056409,12.777113277793092,15.11795353815003,5.54692058019393,11.956726112058465,8.391404903598538],[13.56249964012429,14.757379960928805,13.160208424677714,9.170897082450274,20.391082848552934,13.237736952114876,15.823334828130434,10.105814991689822,16.222626875815955,12.175808311745005]],\"type\":\"surface\"}],                        {\"template\":{\"data\":{\"histogram2dcontour\":[{\"type\":\"histogram2dcontour\",\"colorbar\":{\"outlinewidth\":0,\"ticks\":\"\"},\"colorscale\":[[0.0,\"#0d0887\"],[0.1111111111111111,\"#46039f\"],[0.2222222222222222,\"#7201a8\"],[0.3333333333333333,\"#9c179e\"],[0.4444444444444444,\"#bd3786\"],[0.5555555555555556,\"#d8576b\"],[0.6666666666666666,\"#ed7953\"],[0.7777777777777778,\"#fb9f3a\"],[0.8888888888888888,\"#fdca26\"],[1.0,\"#f0f921\"]]}],\"choropleth\":[{\"type\":\"choropleth\",\"colorbar\":{\"outlinewidth\":0,\"ticks\":\"\"}}],\"histogram2d\":[{\"type\":\"histogram2d\",\"colorbar\":{\"outlinewidth\":0,\"ticks\":\"\"},\"colorscale\":[[0.0,\"#0d0887\"],[0.1111111111111111,\"#46039f\"],[0.2222222222222222,\"#7201a8\"],[0.3333333333333333,\"#9c179e\"],[0.4444444444444444,\"#bd3786\"],[0.5555555555555556,\"#d8576b\"],[0.6666666666666666,\"#ed7953\"],[0.7777777777777778,\"#fb9f3a\"],[0.8888888888888888,\"#fdca26\"],[1.0,\"#f0f921\"]]}],\"heatmap\":[{\"type\":\"heatmap\",\"colorbar\":{\"outlinewidth\":0,\"ticks\":\"\"},\"colorscale\":[[0.0,\"#0d0887\"],[0.1111111111111111,\"#46039f\"],[0.2222222222222222,\"#7201a8\"],[0.3333333333333333,\"#9c179e\"],[0.4444444444444444,\"#bd3786\"],[0.5555555555555556,\"#d8576b\"],[0.6666666666666666,\"#ed7953\"],[0.7777777777777778,\"#fb9f3a\"],[0.8888888888888888,\"#fdca26\"],[1.0,\"#f0f921\"]]}],\"heatmapgl\":[{\"type\":\"heatmapgl\",\"colorbar\":{\"outlinewidth\":0,\"ticks\":\"\"},\"colorscale\":[[0.0,\"#0d0887\"],[0.1111111111111111,\"#46039f\"],[0.2222222222222222,\"#7201a8\"],[0.3333333333333333,\"#9c179e\"],[0.4444444444444444,\"#bd3786\"],[0.5555555555555556,\"#d8576b\"],[0.6666666666666666,\"#ed7953\"],[0.7777777777777778,\"#fb9f3a\"],[0.8888888888888888,\"#fdca26\"],[1.0,\"#f0f921\"]]}],\"contourcarpet\":[{\"type\":\"contourcarpet\",\"colorbar\":{\"outlinewidth\":0,\"ticks\":\"\"}}],\"contour\":[{\"type\":\"contour\",\"colorbar\":{\"outlinewidth\":0,\"ticks\":\"\"},\"colorscale\":[[0.0,\"#0d0887\"],[0.1111111111111111,\"#46039f\"],[0.2222222222222222,\"#7201a8\"],[0.3333333333333333,\"#9c179e\"],[0.4444444444444444,\"#bd3786\"],[0.5555555555555556,\"#d8576b\"],[0.6666666666666666,\"#ed7953\"],[0.7777777777777778,\"#fb9f3a\"],[0.8888888888888888,\"#fdca26\"],[1.0,\"#f0f921\"]]}],\"surface\":[{\"type\":\"surface\",\"colorbar\":{\"outlinewidth\":0,\"ticks\":\"\"},\"colorscale\":[[0.0,\"#0d0887\"],[0.1111111111111111,\"#46039f\"],[0.2222222222222222,\"#7201a8\"],[0.3333333333333333,\"#9c179e\"],[0.4444444444444444,\"#bd3786\"],[0.5555555555555556,\"#d8576b\"],[0.6666666666666666,\"#ed7953\"],[0.7777777777777778,\"#fb9f3a\"],[0.8888888888888888,\"#fdca26\"],[1.0,\"#f0f921\"]]}],\"mesh3d\":[{\"type\":\"mesh3d\",\"colorbar\":{\"outlinewidth\":0,\"ticks\":\"\"}}],\"scatter\":[{\"fillpattern\":{\"fillmode\":\"overlay\",\"size\":10,\"solidity\":0.2},\"type\":\"scatter\"}],\"parcoords\":[{\"type\":\"parcoords\",\"line\":{\"colorbar\":{\"outlinewidth\":0,\"ticks\":\"\"}}}],\"scatterpolargl\":[{\"type\":\"scatterpolargl\",\"marker\":{\"colorbar\":{\"outlinewidth\":0,\"ticks\":\"\"}}}],\"bar\":[{\"error_x\":{\"color\":\"#2a3f5f\"},\"error_y\":{\"color\":\"#2a3f5f\"},\"marker\":{\"line\":{\"color\":\"#E5ECF6\",\"width\":0.5},\"pattern\":{\"fillmode\":\"overlay\",\"size\":10,\"solidity\":0.2}},\"type\":\"bar\"}],\"scattergeo\":[{\"type\":\"scattergeo\",\"marker\":{\"colorbar\":{\"outlinewidth\":0,\"ticks\":\"\"}}}],\"scatterpolar\":[{\"type\":\"scatterpolar\",\"marker\":{\"colorbar\":{\"outlinewidth\":0,\"ticks\":\"\"}}}],\"histogram\":[{\"marker\":{\"pattern\":{\"fillmode\":\"overlay\",\"size\":10,\"solidity\":0.2}},\"type\":\"histogram\"}],\"scattergl\":[{\"type\":\"scattergl\",\"marker\":{\"colorbar\":{\"outlinewidth\":0,\"ticks\":\"\"}}}],\"scatter3d\":[{\"type\":\"scatter3d\",\"line\":{\"colorbar\":{\"outlinewidth\":0,\"ticks\":\"\"}},\"marker\":{\"colorbar\":{\"outlinewidth\":0,\"ticks\":\"\"}}}],\"scattermapbox\":[{\"type\":\"scattermapbox\",\"marker\":{\"colorbar\":{\"outlinewidth\":0,\"ticks\":\"\"}}}],\"scatterternary\":[{\"type\":\"scatterternary\",\"marker\":{\"colorbar\":{\"outlinewidth\":0,\"ticks\":\"\"}}}],\"scattercarpet\":[{\"type\":\"scattercarpet\",\"marker\":{\"colorbar\":{\"outlinewidth\":0,\"ticks\":\"\"}}}],\"carpet\":[{\"aaxis\":{\"endlinecolor\":\"#2a3f5f\",\"gridcolor\":\"white\",\"linecolor\":\"white\",\"minorgridcolor\":\"white\",\"startlinecolor\":\"#2a3f5f\"},\"baxis\":{\"endlinecolor\":\"#2a3f5f\",\"gridcolor\":\"white\",\"linecolor\":\"white\",\"minorgridcolor\":\"white\",\"startlinecolor\":\"#2a3f5f\"},\"type\":\"carpet\"}],\"table\":[{\"cells\":{\"fill\":{\"color\":\"#EBF0F8\"},\"line\":{\"color\":\"white\"}},\"header\":{\"fill\":{\"color\":\"#C8D4E3\"},\"line\":{\"color\":\"white\"}},\"type\":\"table\"}],\"barpolar\":[{\"marker\":{\"line\":{\"color\":\"#E5ECF6\",\"width\":0.5},\"pattern\":{\"fillmode\":\"overlay\",\"size\":10,\"solidity\":0.2}},\"type\":\"barpolar\"}],\"pie\":[{\"automargin\":true,\"type\":\"pie\"}]},\"layout\":{\"autotypenumbers\":\"strict\",\"colorway\":[\"#636efa\",\"#EF553B\",\"#00cc96\",\"#ab63fa\",\"#FFA15A\",\"#19d3f3\",\"#FF6692\",\"#B6E880\",\"#FF97FF\",\"#FECB52\"],\"font\":{\"color\":\"#2a3f5f\"},\"hovermode\":\"closest\",\"hoverlabel\":{\"align\":\"left\"},\"paper_bgcolor\":\"white\",\"plot_bgcolor\":\"#E5ECF6\",\"polar\":{\"bgcolor\":\"#E5ECF6\",\"angularaxis\":{\"gridcolor\":\"white\",\"linecolor\":\"white\",\"ticks\":\"\"},\"radialaxis\":{\"gridcolor\":\"white\",\"linecolor\":\"white\",\"ticks\":\"\"}},\"ternary\":{\"bgcolor\":\"#E5ECF6\",\"aaxis\":{\"gridcolor\":\"white\",\"linecolor\":\"white\",\"ticks\":\"\"},\"baxis\":{\"gridcolor\":\"white\",\"linecolor\":\"white\",\"ticks\":\"\"},\"caxis\":{\"gridcolor\":\"white\",\"linecolor\":\"white\",\"ticks\":\"\"}},\"coloraxis\":{\"colorbar\":{\"outlinewidth\":0,\"ticks\":\"\"}},\"colorscale\":{\"sequential\":[[0.0,\"#0d0887\"],[0.1111111111111111,\"#46039f\"],[0.2222222222222222,\"#7201a8\"],[0.3333333333333333,\"#9c179e\"],[0.4444444444444444,\"#bd3786\"],[0.5555555555555556,\"#d8576b\"],[0.6666666666666666,\"#ed7953\"],[0.7777777777777778,\"#fb9f3a\"],[0.8888888888888888,\"#fdca26\"],[1.0,\"#f0f921\"]],\"sequentialminus\":[[0.0,\"#0d0887\"],[0.1111111111111111,\"#46039f\"],[0.2222222222222222,\"#7201a8\"],[0.3333333333333333,\"#9c179e\"],[0.4444444444444444,\"#bd3786\"],[0.5555555555555556,\"#d8576b\"],[0.6666666666666666,\"#ed7953\"],[0.7777777777777778,\"#fb9f3a\"],[0.8888888888888888,\"#fdca26\"],[1.0,\"#f0f921\"]],\"diverging\":[[0,\"#8e0152\"],[0.1,\"#c51b7d\"],[0.2,\"#de77ae\"],[0.3,\"#f1b6da\"],[0.4,\"#fde0ef\"],[0.5,\"#f7f7f7\"],[0.6,\"#e6f5d0\"],[0.7,\"#b8e186\"],[0.8,\"#7fbc41\"],[0.9,\"#4d9221\"],[1,\"#276419\"]]},\"xaxis\":{\"gridcolor\":\"white\",\"linecolor\":\"white\",\"ticks\":\"\",\"title\":{\"standoff\":15},\"zerolinecolor\":\"white\",\"automargin\":true,\"zerolinewidth\":2},\"yaxis\":{\"gridcolor\":\"white\",\"linecolor\":\"white\",\"ticks\":\"\",\"title\":{\"standoff\":15},\"zerolinecolor\":\"white\",\"automargin\":true,\"zerolinewidth\":2},\"scene\":{\"xaxis\":{\"backgroundcolor\":\"#E5ECF6\",\"gridcolor\":\"white\",\"linecolor\":\"white\",\"showbackground\":true,\"ticks\":\"\",\"zerolinecolor\":\"white\",\"gridwidth\":2},\"yaxis\":{\"backgroundcolor\":\"#E5ECF6\",\"gridcolor\":\"white\",\"linecolor\":\"white\",\"showbackground\":true,\"ticks\":\"\",\"zerolinecolor\":\"white\",\"gridwidth\":2},\"zaxis\":{\"backgroundcolor\":\"#E5ECF6\",\"gridcolor\":\"white\",\"linecolor\":\"white\",\"showbackground\":true,\"ticks\":\"\",\"zerolinecolor\":\"white\",\"gridwidth\":2}},\"shapedefaults\":{\"line\":{\"color\":\"#2a3f5f\"}},\"annotationdefaults\":{\"arrowcolor\":\"#2a3f5f\",\"arrowhead\":0,\"arrowwidth\":1},\"geo\":{\"bgcolor\":\"white\",\"landcolor\":\"#E5ECF6\",\"subunitcolor\":\"white\",\"showland\":true,\"showlakes\":true,\"lakecolor\":\"white\"},\"title\":{\"x\":0.05},\"mapbox\":{\"style\":\"light\"}}},\"scene\":{\"domain\":{\"x\":[0.0,1.0],\"y\":[0.0,1.0]},\"xaxis\":{\"title\":{\"text\":\"x\"}},\"yaxis\":{\"title\":{\"text\":\"y\"}},\"zaxis\":{\"title\":{\"text\":\"z\"},\"range\":[0,35]}},\"legend\":{\"tracegroupgap\":0},\"margin\":{\"t\":60}},                        {\"responsive\": true}                    ).then(function(){\n",
       "                            \n",
       "var gd = document.getElementById('2b8d163c-b1f4-4ca8-9ed7-934688dced66');\n",
       "var x = new MutationObserver(function (mutations, observer) {{\n",
       "        var display = window.getComputedStyle(gd).display;\n",
       "        if (!display || display === 'none') {{\n",
       "            console.log([gd, 'removed!']);\n",
       "            Plotly.purge(gd);\n",
       "            observer.disconnect();\n",
       "        }}\n",
       "}});\n",
       "\n",
       "// Listen for the removal of the full notebook cells\n",
       "var notebookContainer = gd.closest('#notebook-container');\n",
       "if (notebookContainer) {{\n",
       "    x.observe(notebookContainer, {childList: true});\n",
       "}}\n",
       "\n",
       "// Listen for the clearing of the current output cell\n",
       "var outputEl = gd.closest('.output');\n",
       "if (outputEl) {{\n",
       "    x.observe(outputEl, {childList: true});\n",
       "}}\n",
       "\n",
       "                        })                };                            </script>        </div>\n",
       "</body>\n",
       "</html>"
      ]
     },
     "metadata": {},
     "output_type": "display_data"
    }
   ],
   "source": [
    "fig = px.scatter_3d(x=x.ravel(), y=y.ravel(), z=z.ravel())\n",
    "\n",
    "fig.add_trace(go.Surface(x = x_input, y = y_input, z =z_final))\n",
    "\n",
    "fig.update_layout(scene = dict(zaxis = dict(range=[0,35])))\n",
    "\n",
    "fig.show()"
   ]
  },
  {
   "cell_type": "code",
   "execution_count": null,
   "metadata": {
    "trusted": true
   },
   "outputs": [],
   "source": []
  }
 ],
 "metadata": {
  "kaggle": {
   "accelerator": "none",
   "dataSources": [],
   "dockerImageVersionId": 31040,
   "isGpuEnabled": false,
   "isInternetEnabled": true,
   "language": "python",
   "sourceType": "notebook"
  },
  "kernelspec": {
   "display_name": "Python 3",
   "language": "python",
   "name": "python3"
  },
  "language_info": {
   "codemirror_mode": {
    "name": "ipython",
    "version": 3
   },
   "file_extension": ".py",
   "mimetype": "text/x-python",
   "name": "python",
   "nbconvert_exporter": "python",
   "pygments_lexer": "ipython3",
   "version": "3.11.11"
  }
 },
 "nbformat": 4,
 "nbformat_minor": 4
}
